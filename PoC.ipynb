{
 "cells": [
  {
   "cell_type": "markdown",
   "id": "f68aee34-235d-4c32-9389-9db1d84f34fc",
   "metadata": {},
   "source": [
    "<h1 style=\"margin: auto; font-weight: bold; padding: 30px 30px 0px 30px; color:#000;\" align=\"center\">Cleaning and Exploring Big Data using PySpark</h1>\n",
    "<p style=\"width: 100%; text-align: center; margin: 0px; padding: 0px 0px 30px 0px; font-size: 24px; color:#000;\" align=\"center\">| Spark - PySpark practice |</p>\n"
   ]
  },
  {
   "cell_type": "markdown",
   "id": "71857cd8-6f1f-498a-a4b2-a7a0e32260ae",
   "metadata": {},
   "source": [
    "## 1. Libraries"
   ]
  },
  {
   "cell_type": "code",
   "execution_count": 1,
   "id": "b97014f5-9e77-4785-8e36-22b34035c531",
   "metadata": {},
   "outputs": [],
   "source": [
    "from pyspark import SparkFiles\n",
    "from pyspark.sql import SparkSession"
   ]
  },
  {
   "cell_type": "markdown",
   "id": "96f74305-aeb8-4119-845e-45af70ca595e",
   "metadata": {},
   "source": [
    "## 2. Set up Spark"
   ]
  },
  {
   "cell_type": "code",
   "execution_count": 2,
   "id": "7d7319d6-3682-450f-ab02-71a3c3cf4957",
   "metadata": {
    "tags": []
   },
   "outputs": [
    {
     "data": {
      "text/html": [
       "\n",
       "            <div>\n",
       "                <p><b>SparkSession - in-memory</b></p>\n",
       "                \n",
       "        <div>\n",
       "            <p><b>SparkContext</b></p>\n",
       "\n",
       "            <p><a href=\"http://8156ab36aca5:4040\">Spark UI</a></p>\n",
       "\n",
       "            <dl>\n",
       "              <dt>Version</dt>\n",
       "                <dd><code>v3.3.0</code></dd>\n",
       "              <dt>Master</dt>\n",
       "                <dd><code>local[*]</code></dd>\n",
       "              <dt>AppName</dt>\n",
       "                <dd><code>PoC</code></dd>\n",
       "            </dl>\n",
       "        </div>\n",
       "        \n",
       "            </div>\n",
       "        "
      ],
      "text/plain": [
       "<pyspark.sql.session.SparkSession at 0x7ff8402ad660>"
      ]
     },
     "execution_count": 2,
     "metadata": {},
     "output_type": "execute_result"
    }
   ],
   "source": [
    "spark = (\n",
    "    SparkSession\n",
    "    .builder\n",
    "    .appName(\"PoC\")\n",
    "    .getOrCreate()\n",
    ")\n",
    "\n",
    "spark_context = spark.sparkContext\n",
    "\n",
    "spark"
   ]
  },
  {
   "cell_type": "markdown",
   "id": "3085661a-08c0-4b75-bb99-e057b33d4358",
   "metadata": {},
   "source": [
    "## 2. Initial testing"
   ]
  },
  {
   "cell_type": "code",
   "execution_count": 3,
   "id": "1d2ddf64-571c-450d-a45f-9e65c3c02a15",
   "metadata": {},
   "outputs": [],
   "source": [
    "rdd_test = spark_context.parallelize(range(1000))"
   ]
  },
  {
   "cell_type": "code",
   "execution_count": 4,
   "id": "d7bc2271-412a-468a-9fca-744545e8fcdf",
   "metadata": {},
   "outputs": [
    {
     "data": {
      "text/plain": [
       "[188, 366, 165, 213, 193]"
      ]
     },
     "execution_count": 4,
     "metadata": {},
     "output_type": "execute_result"
    }
   ],
   "source": [
    "rdd_test.takeSample(False, 5)"
   ]
  },
  {
   "cell_type": "markdown",
   "id": "31ff28ad-50b6-4ee8-955b-40b067a7cc80",
   "metadata": {},
   "source": [
    "## 3. Using createDataframe()"
   ]
  },
  {
   "cell_type": "code",
   "execution_count": 5,
   "id": "cf948cae-fc79-41b6-9cf1-d2fc4a19bacc",
   "metadata": {},
   "outputs": [],
   "source": [
    "data = [\n",
    "    (\"James\", \"\", \"Smith\", \"1991-04-01\", \"M\", 3000),\n",
    "    (\"Michael\", \"Rose\", \"\", \"2000-05-19\", \"M\", 4000),\n",
    "    (\"Robert\", \"\", \"Williams\", \"1978-09-05\", \"M\", 4000),\n",
    "    (\"Maria\", \"Anne\", \"Jones\", \"1967-12-01\", \"F\", 4000),\n",
    "    (\"Jen\", \"Mary\", \"Brown\", \"1980-02-17\", \"F\", -1)\n",
    "]"
   ]
  },
  {
   "cell_type": "code",
   "execution_count": 7,
   "id": "abf35a23-b88a-4180-817a-5d4d04e7b736",
   "metadata": {},
   "outputs": [],
   "source": [
    "COLUMNS = [\"firstname\", \"middlename\", \"lastname\", \"dob\", \"gender\", \"salary\"]\n",
    "\n",
    "df = spark.createDataFrame(data=data, schema=COLUMNS)"
   ]
  },
  {
   "cell_type": "code",
   "execution_count": 8,
   "id": "c9bcf40c-8091-4d24-9828-ca61a0da32a7",
   "metadata": {},
   "outputs": [
    {
     "name": "stdout",
     "output_type": "stream",
     "text": [
      "root\n",
      " |-- firstname: string (nullable = true)\n",
      " |-- middlename: string (nullable = true)\n",
      " |-- lastname: string (nullable = true)\n",
      " |-- dob: string (nullable = true)\n",
      " |-- gender: string (nullable = true)\n",
      " |-- salary: long (nullable = true)\n",
      "\n"
     ]
    }
   ],
   "source": [
    "df.printSchema()"
   ]
  },
  {
   "cell_type": "markdown",
   "id": "a2af4cab-4751-47cd-b20f-01b1c00255cd",
   "metadata": {},
   "source": [
    "## 4. Reading csv"
   ]
  },
  {
   "cell_type": "code",
   "execution_count": 9,
   "id": "936fcb17-844c-42a6-b79e-0e55e4cdf9bf",
   "metadata": {},
   "outputs": [],
   "source": [
    "df_diabetes = spark.read.csv(\"diabetes.csv\", header=True)"
   ]
  },
  {
   "cell_type": "code",
   "execution_count": 13,
   "id": "41a9963e-c3d7-465e-a469-d81e17395d1e",
   "metadata": {},
   "outputs": [
    {
     "name": "stdout",
     "output_type": "stream",
     "text": [
      "(768, 9)\n"
     ]
    }
   ],
   "source": [
    "print((df_diabetes.count(), len(df_diabetes.columns)))"
   ]
  },
  {
   "cell_type": "code",
   "execution_count": 14,
   "id": "9883b3a3-c611-455a-a8fd-96939ae126e3",
   "metadata": {},
   "outputs": [
    {
     "name": "stdout",
     "output_type": "stream",
     "text": [
      "root\n",
      " |-- Pregnancies: string (nullable = true)\n",
      " |-- Glucose: string (nullable = true)\n",
      " |-- BloodPressure: string (nullable = true)\n",
      " |-- SkinThickness: string (nullable = true)\n",
      " |-- Insulin: string (nullable = true)\n",
      " |-- BMI: string (nullable = true)\n",
      " |-- DiabetesPedigreeFunction: string (nullable = true)\n",
      " |-- Age: string (nullable = true)\n",
      " |-- Outcome: string (nullable = true)\n",
      "\n"
     ]
    }
   ],
   "source": [
    "df_diabetes.printSchema()"
   ]
  },
  {
   "cell_type": "code",
   "execution_count": 15,
   "id": "560212ce-ff6d-4db2-8f39-ce7f3c50418d",
   "metadata": {},
   "outputs": [
    {
     "name": "stdout",
     "output_type": "stream",
     "text": [
      "+-----------+-------+-------------+-------------+-------+----+------------------------+---+-------+\n",
      "|Pregnancies|Glucose|BloodPressure|SkinThickness|Insulin| BMI|DiabetesPedigreeFunction|Age|Outcome|\n",
      "+-----------+-------+-------------+-------------+-------+----+------------------------+---+-------+\n",
      "|          6|    148|           72|           35|      0|33.6|                   0.627| 50|      1|\n",
      "|          1|     85|           66|           29|      0|26.6|                   0.351| 31|      0|\n",
      "|          8|    183|           64|            0|      0|23.3|                   0.672| 32|      1|\n",
      "|          1|     89|           66|           23|     94|28.1|                   0.167| 21|      0|\n",
      "|          0|    137|           40|           35|    168|43.1|                   2.288| 33|      1|\n",
      "+-----------+-------+-------------+-------------+-------+----+------------------------+---+-------+\n",
      "only showing top 5 rows\n",
      "\n"
     ]
    }
   ],
   "source": [
    "df_diabetes.show(5)"
   ]
  },
  {
   "cell_type": "code",
   "execution_count": null,
   "id": "abf68868-d3b7-40f0-9eee-74a70eac715e",
   "metadata": {},
   "outputs": [],
   "source": []
  }
 ],
 "metadata": {
  "kernelspec": {
   "display_name": "Python 3 (ipykernel)",
   "language": "python",
   "name": "python3"
  },
  "language_info": {
   "codemirror_mode": {
    "name": "ipython",
    "version": 3
   },
   "file_extension": ".py",
   "mimetype": "text/x-python",
   "name": "python",
   "nbconvert_exporter": "python",
   "pygments_lexer": "ipython3",
   "version": "3.10.6"
  }
 },
 "nbformat": 4,
 "nbformat_minor": 5
}
