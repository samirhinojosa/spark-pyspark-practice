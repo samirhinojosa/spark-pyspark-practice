{
 "cells": [
  {
   "cell_type": "markdown",
   "id": "f68aee34-235d-4c32-9389-9db1d84f34fc",
   "metadata": {},
   "source": [
    "<h1 style=\"margin: auto; font-weight: bold; padding: 30px 30px 0px 30px; color:#000;\" align=\"center\">Cleaning and Exploring Big Data using PySpark</h1>\n",
    "<p style=\"width: 100%; text-align: center; margin: 0px; padding: 0px 0px 30px 0px; font-size: 24px; color:#000;\" align=\"center\">| Spark - PySpark practice |</p>\n"
   ]
  },
  {
   "cell_type": "markdown",
   "id": "71857cd8-6f1f-498a-a4b2-a7a0e32260ae",
   "metadata": {},
   "source": [
    "## 1. Libraries"
   ]
  },
  {
   "cell_type": "code",
   "execution_count": 92,
   "id": "b97014f5-9e77-4785-8e36-22b34035c531",
   "metadata": {},
   "outputs": [],
   "source": [
    "from pyspark import SparkFiles\n",
    "from pyspark.sql import SparkSession\n",
    "from pyspark.sql.functions import col, lit, when"
   ]
  },
  {
   "cell_type": "markdown",
   "id": "96f74305-aeb8-4119-845e-45af70ca595e",
   "metadata": {},
   "source": [
    "## 2. Set up SparkSession"
   ]
  },
  {
   "cell_type": "code",
   "execution_count": 2,
   "id": "7d7319d6-3682-450f-ab02-71a3c3cf4957",
   "metadata": {
    "tags": []
   },
   "outputs": [
    {
     "data": {
      "text/html": [
       "\n",
       "            <div>\n",
       "                <p><b>SparkSession - in-memory</b></p>\n",
       "                \n",
       "        <div>\n",
       "            <p><b>SparkContext</b></p>\n",
       "\n",
       "            <p><a href=\"http://d45aee226797:4040\">Spark UI</a></p>\n",
       "\n",
       "            <dl>\n",
       "              <dt>Version</dt>\n",
       "                <dd><code>v3.3.0</code></dd>\n",
       "              <dt>Master</dt>\n",
       "                <dd><code>local[1]</code></dd>\n",
       "              <dt>AppName</dt>\n",
       "                <dd><code>PoC</code></dd>\n",
       "            </dl>\n",
       "        </div>\n",
       "        \n",
       "            </div>\n",
       "        "
      ],
      "text/plain": [
       "<pyspark.sql.session.SparkSession at 0x7fc4d838b8e0>"
      ]
     },
     "execution_count": 2,
     "metadata": {},
     "output_type": "execute_result"
    }
   ],
   "source": [
    "spark = (\n",
    "    SparkSession\n",
    "    .builder\n",
    "    .master(\"local[1]\")\n",
    "    .appName(\"PoC\")\n",
    "    .getOrCreate()\n",
    ")\n",
    "\n",
    "sc = spark.sparkContext\n",
    "\n",
    "spark"
   ]
  },
  {
   "cell_type": "markdown",
   "id": "3085661a-08c0-4b75-bb99-e057b33d4358",
   "metadata": {},
   "source": [
    "## 2. Initial testing"
   ]
  },
  {
   "cell_type": "code",
   "execution_count": 3,
   "id": "1d2ddf64-571c-450d-a45f-9e65c3c02a15",
   "metadata": {},
   "outputs": [],
   "source": [
    "rdd_test = sc.parallelize(range(1000))"
   ]
  },
  {
   "cell_type": "code",
   "execution_count": 4,
   "id": "d7bc2271-412a-468a-9fca-744545e8fcdf",
   "metadata": {},
   "outputs": [
    {
     "data": {
      "text/plain": [
       "[318, 446, 911, 552, 592]"
      ]
     },
     "execution_count": 4,
     "metadata": {},
     "output_type": "execute_result"
    }
   ],
   "source": [
    "rdd_test.takeSample(False, 5)"
   ]
  },
  {
   "cell_type": "code",
   "execution_count": 5,
   "id": "faf12e03-6b25-455f-9e8f-25294cb2f197",
   "metadata": {},
   "outputs": [
    {
     "name": "stdout",
     "output_type": "stream",
     "text": [
      "<class 'pyspark.rdd.PipelinedRDD'>\n"
     ]
    }
   ],
   "source": [
    "print(type(rdd_test))"
   ]
  },
  {
   "cell_type": "code",
   "execution_count": 6,
   "id": "d0500110-2466-4684-bc86-9e0f53b32601",
   "metadata": {},
   "outputs": [],
   "source": [
    "rdd = sc.parallelize([('C',85,76,87,91), ('B',85,76,87,91), (\"A\", 85,78,96,92), (\"A\", 92,76,89,96)], 4)"
   ]
  },
  {
   "cell_type": "code",
   "execution_count": 7,
   "id": "27454ee8-b9f0-4f43-a902-5013d328d387",
   "metadata": {},
   "outputs": [
    {
     "name": "stdout",
     "output_type": "stream",
     "text": [
      "<class 'pyspark.rdd.RDD'>\n"
     ]
    }
   ],
   "source": [
    "print(type(rdd))"
   ]
  },
  {
   "cell_type": "markdown",
   "id": "31ff28ad-50b6-4ee8-955b-40b067a7cc80",
   "metadata": {},
   "source": [
    "## 3. Using createDataframe()"
   ]
  },
  {
   "cell_type": "code",
   "execution_count": 8,
   "id": "cf948cae-fc79-41b6-9cf1-d2fc4a19bacc",
   "metadata": {},
   "outputs": [],
   "source": [
    "data = [\n",
    "    (\"James\", \"\", \"Smith\", \"1991-04-01\", \"M\", 3000),\n",
    "    (\"Michael\", \"Rose\", \"\", \"2000-05-19\", \"M\", 4000),\n",
    "    (\"Robert\", \"\", \"Williams\", \"1978-09-05\", \"M\", 4000),\n",
    "    (\"Maria\", \"Anne\", \"Jones\", \"1967-12-01\", \"F\", 4000),\n",
    "    (\"Jen\", \"Mary\", \"Brown\", \"1980-02-17\", \"F\", -1)\n",
    "]"
   ]
  },
  {
   "cell_type": "code",
   "execution_count": 9,
   "id": "abf35a23-b88a-4180-817a-5d4d04e7b736",
   "metadata": {},
   "outputs": [],
   "source": [
    "COLUMNS = [\"firstname\", \"middlename\", \"lastname\", \"dob\", \"gender\", \"salary\"]\n",
    "\n",
    "df = spark.createDataFrame(data=data, schema=COLUMNS)"
   ]
  },
  {
   "cell_type": "code",
   "execution_count": 10,
   "id": "c9bcf40c-8091-4d24-9828-ca61a0da32a7",
   "metadata": {},
   "outputs": [
    {
     "name": "stdout",
     "output_type": "stream",
     "text": [
      "root\n",
      " |-- firstname: string (nullable = true)\n",
      " |-- middlename: string (nullable = true)\n",
      " |-- lastname: string (nullable = true)\n",
      " |-- dob: string (nullable = true)\n",
      " |-- gender: string (nullable = true)\n",
      " |-- salary: long (nullable = true)\n",
      "\n"
     ]
    }
   ],
   "source": [
    "df.printSchema()"
   ]
  },
  {
   "cell_type": "code",
   "execution_count": 11,
   "id": "e7936ab6-4578-47dc-bda3-49cb289151d4",
   "metadata": {},
   "outputs": [
    {
     "name": "stdout",
     "output_type": "stream",
     "text": [
      "+---------+----------+--------+----------+------+------+\n",
      "|firstname|middlename|lastname|       dob|gender|salary|\n",
      "+---------+----------+--------+----------+------+------+\n",
      "|    James|          |   Smith|1991-04-01|     M|  3000|\n",
      "|  Michael|      Rose|        |2000-05-19|     M|  4000|\n",
      "|   Robert|          |Williams|1978-09-05|     M|  4000|\n",
      "|    Maria|      Anne|   Jones|1967-12-01|     F|  4000|\n",
      "|      Jen|      Mary|   Brown|1980-02-17|     F|    -1|\n",
      "+---------+----------+--------+----------+------+------+\n",
      "\n"
     ]
    }
   ],
   "source": [
    "df.show()"
   ]
  },
  {
   "cell_type": "code",
   "execution_count": 12,
   "id": "a5ed63f3-98f8-414e-a8fa-09ca4d8c87c7",
   "metadata": {},
   "outputs": [
    {
     "name": "stdout",
     "output_type": "stream",
     "text": [
      "<class 'pyspark.sql.dataframe.DataFrame'>\n"
     ]
    }
   ],
   "source": [
    "print(type(df))"
   ]
  },
  {
   "cell_type": "markdown",
   "id": "bcd1ad31-d65d-4dff-a066-8dfa36e48d67",
   "metadata": {},
   "source": [
    "let's transform the dataframe to RDD"
   ]
  },
  {
   "cell_type": "code",
   "execution_count": 13,
   "id": "641fb35f-6efe-4fdf-a679-091df5cf7fdb",
   "metadata": {},
   "outputs": [],
   "source": [
    "rdd_df = df.rdd"
   ]
  },
  {
   "cell_type": "code",
   "execution_count": 14,
   "id": "06b7e7bf-48dc-45d2-94f5-1b714e6c56f0",
   "metadata": {},
   "outputs": [
    {
     "name": "stdout",
     "output_type": "stream",
     "text": [
      "<class 'pyspark.rdd.RDD'>\n"
     ]
    }
   ],
   "source": [
    "print(type(rdd_df))"
   ]
  },
  {
   "cell_type": "code",
   "execution_count": 15,
   "id": "56de1510-faf5-465b-8e2f-55fee120af00",
   "metadata": {},
   "outputs": [
    {
     "data": {
      "text/plain": [
       "[Row(firstname='James', middlename='', lastname='Smith', dob='1991-04-01', gender='M', salary=3000),\n",
       " Row(firstname='Michael', middlename='Rose', lastname='', dob='2000-05-19', gender='M', salary=4000),\n",
       " Row(firstname='Robert', middlename='', lastname='Williams', dob='1978-09-05', gender='M', salary=4000),\n",
       " Row(firstname='Maria', middlename='Anne', lastname='Jones', dob='1967-12-01', gender='F', salary=4000),\n",
       " Row(firstname='Jen', middlename='Mary', lastname='Brown', dob='1980-02-17', gender='F', salary=-1)]"
      ]
     },
     "execution_count": 15,
     "metadata": {},
     "output_type": "execute_result"
    }
   ],
   "source": [
    "rdd_df.collect()"
   ]
  },
  {
   "cell_type": "markdown",
   "id": "a2af4cab-4751-47cd-b20f-01b1c00255cd",
   "metadata": {},
   "source": [
    "## 4. Reading csv"
   ]
  },
  {
   "cell_type": "code",
   "execution_count": 57,
   "id": "936fcb17-844c-42a6-b79e-0e55e4cdf9bf",
   "metadata": {},
   "outputs": [],
   "source": [
    "df_diabetes = spark.read.csv(\"diabetes.csv\", header=True)"
   ]
  },
  {
   "cell_type": "code",
   "execution_count": 58,
   "id": "41a9963e-c3d7-465e-a469-d81e17395d1e",
   "metadata": {},
   "outputs": [
    {
     "name": "stdout",
     "output_type": "stream",
     "text": [
      "(768, 9)\n"
     ]
    }
   ],
   "source": [
    "print((df_diabetes.count(), len(df_diabetes.columns)))"
   ]
  },
  {
   "cell_type": "code",
   "execution_count": 59,
   "id": "9883b3a3-c611-455a-a8fd-96939ae126e3",
   "metadata": {},
   "outputs": [
    {
     "name": "stdout",
     "output_type": "stream",
     "text": [
      "root\n",
      " |-- Pregnancies: string (nullable = true)\n",
      " |-- Glucose: string (nullable = true)\n",
      " |-- BloodPressure: string (nullable = true)\n",
      " |-- SkinThickness: string (nullable = true)\n",
      " |-- Insulin: string (nullable = true)\n",
      " |-- BMI: string (nullable = true)\n",
      " |-- DiabetesPedigreeFunction: string (nullable = true)\n",
      " |-- Age: string (nullable = true)\n",
      " |-- Outcome: string (nullable = true)\n",
      "\n"
     ]
    }
   ],
   "source": [
    "df_diabetes.printSchema()"
   ]
  },
  {
   "cell_type": "code",
   "execution_count": 60,
   "id": "560212ce-ff6d-4db2-8f39-ce7f3c50418d",
   "metadata": {},
   "outputs": [
    {
     "name": "stdout",
     "output_type": "stream",
     "text": [
      "+-----------+-------+-------------+-------------+-------+----+------------------------+---+-------+\n",
      "|Pregnancies|Glucose|BloodPressure|SkinThickness|Insulin| BMI|DiabetesPedigreeFunction|Age|Outcome|\n",
      "+-----------+-------+-------------+-------------+-------+----+------------------------+---+-------+\n",
      "|          6|    148|           72|           35|      0|33.6|                   0.627| 50|      1|\n",
      "|          1|     85|           66|           29|      0|26.6|                   0.351| 31|      0|\n",
      "|          8|    183|           64|            0|      0|23.3|                   0.672| 32|      1|\n",
      "|          1|     89|           66|           23|     94|28.1|                   0.167| 21|      0|\n",
      "|          0|    137|           40|           35|    168|43.1|                   2.288| 33|      1|\n",
      "+-----------+-------+-------------+-------------+-------+----+------------------------+---+-------+\n",
      "only showing top 5 rows\n",
      "\n"
     ]
    }
   ],
   "source": [
    "df_diabetes.show(5)"
   ]
  },
  {
   "cell_type": "markdown",
   "id": "24056106-808c-46fb-bb1d-24daba29a7d8",
   "metadata": {},
   "source": [
    "### 4.1 Transforming Spark dataframe to pandas"
   ]
  },
  {
   "cell_type": "code",
   "execution_count": 61,
   "id": "abf68868-d3b7-40f0-9eee-74a70eac715e",
   "metadata": {},
   "outputs": [],
   "source": [
    "df_diabetes_pd = df_diabetes.toPandas()"
   ]
  },
  {
   "cell_type": "code",
   "execution_count": 62,
   "id": "187658dd-4651-478e-8e43-a8a9ddef1038",
   "metadata": {},
   "outputs": [
    {
     "data": {
      "text/plain": [
       "pandas.core.frame.DataFrame"
      ]
     },
     "execution_count": 62,
     "metadata": {},
     "output_type": "execute_result"
    }
   ],
   "source": [
    "type(df_diabetes_pd)"
   ]
  },
  {
   "cell_type": "code",
   "execution_count": 63,
   "id": "b464f1e3-3ea0-4f16-b83d-bd3121ea32d3",
   "metadata": {},
   "outputs": [
    {
     "data": {
      "text/plain": [
       "Outcome\n",
       "0    500\n",
       "1    268\n",
       "dtype: int64"
      ]
     },
     "execution_count": 63,
     "metadata": {},
     "output_type": "execute_result"
    }
   ],
   "source": [
    "df_diabetes_pd.value_counts(\"Outcome\")"
   ]
  },
  {
   "cell_type": "code",
   "execution_count": 64,
   "id": "5d89e9e2-ef64-4a5d-a389-e2ccebb1587a",
   "metadata": {},
   "outputs": [
    {
     "data": {
      "text/html": [
       "<div>\n",
       "<style scoped>\n",
       "    .dataframe tbody tr th:only-of-type {\n",
       "        vertical-align: middle;\n",
       "    }\n",
       "\n",
       "    .dataframe tbody tr th {\n",
       "        vertical-align: top;\n",
       "    }\n",
       "\n",
       "    .dataframe thead th {\n",
       "        text-align: right;\n",
       "    }\n",
       "</style>\n",
       "<table border=\"1\" class=\"dataframe\">\n",
       "  <thead>\n",
       "    <tr style=\"text-align: right;\">\n",
       "      <th></th>\n",
       "      <th>Pregnancies</th>\n",
       "      <th>Glucose</th>\n",
       "      <th>BloodPressure</th>\n",
       "      <th>SkinThickness</th>\n",
       "      <th>Insulin</th>\n",
       "      <th>BMI</th>\n",
       "      <th>DiabetesPedigreeFunction</th>\n",
       "      <th>Age</th>\n",
       "      <th>Outcome</th>\n",
       "    </tr>\n",
       "  </thead>\n",
       "  <tbody>\n",
       "    <tr>\n",
       "      <th>0</th>\n",
       "      <td>6</td>\n",
       "      <td>148</td>\n",
       "      <td>72</td>\n",
       "      <td>35</td>\n",
       "      <td>0</td>\n",
       "      <td>33.6</td>\n",
       "      <td>0.627</td>\n",
       "      <td>50</td>\n",
       "      <td>1</td>\n",
       "    </tr>\n",
       "    <tr>\n",
       "      <th>1</th>\n",
       "      <td>1</td>\n",
       "      <td>85</td>\n",
       "      <td>66</td>\n",
       "      <td>29</td>\n",
       "      <td>0</td>\n",
       "      <td>26.6</td>\n",
       "      <td>0.351</td>\n",
       "      <td>31</td>\n",
       "      <td>0</td>\n",
       "    </tr>\n",
       "    <tr>\n",
       "      <th>2</th>\n",
       "      <td>8</td>\n",
       "      <td>183</td>\n",
       "      <td>64</td>\n",
       "      <td>0</td>\n",
       "      <td>0</td>\n",
       "      <td>23.3</td>\n",
       "      <td>0.672</td>\n",
       "      <td>32</td>\n",
       "      <td>1</td>\n",
       "    </tr>\n",
       "    <tr>\n",
       "      <th>3</th>\n",
       "      <td>1</td>\n",
       "      <td>89</td>\n",
       "      <td>66</td>\n",
       "      <td>23</td>\n",
       "      <td>94</td>\n",
       "      <td>28.1</td>\n",
       "      <td>0.167</td>\n",
       "      <td>21</td>\n",
       "      <td>0</td>\n",
       "    </tr>\n",
       "    <tr>\n",
       "      <th>4</th>\n",
       "      <td>0</td>\n",
       "      <td>137</td>\n",
       "      <td>40</td>\n",
       "      <td>35</td>\n",
       "      <td>168</td>\n",
       "      <td>43.1</td>\n",
       "      <td>2.288</td>\n",
       "      <td>33</td>\n",
       "      <td>1</td>\n",
       "    </tr>\n",
       "  </tbody>\n",
       "</table>\n",
       "</div>"
      ],
      "text/plain": [
       "  Pregnancies Glucose BloodPressure SkinThickness Insulin   BMI  \\\n",
       "0           6     148            72            35       0  33.6   \n",
       "1           1      85            66            29       0  26.6   \n",
       "2           8     183            64             0       0  23.3   \n",
       "3           1      89            66            23      94  28.1   \n",
       "4           0     137            40            35     168  43.1   \n",
       "\n",
       "  DiabetesPedigreeFunction Age Outcome  \n",
       "0                    0.627  50       1  \n",
       "1                    0.351  31       0  \n",
       "2                    0.672  32       1  \n",
       "3                    0.167  21       0  \n",
       "4                    2.288  33       1  "
      ]
     },
     "execution_count": 64,
     "metadata": {},
     "output_type": "execute_result"
    }
   ],
   "source": [
    "df_diabetes_pd.head()"
   ]
  },
  {
   "cell_type": "markdown",
   "id": "e53c3d37-6d69-46d5-991b-0a19e4063765",
   "metadata": {},
   "source": [
    "## 5. Manipulating DataFrame"
   ]
  },
  {
   "cell_type": "code",
   "execution_count": 65,
   "id": "c5c0cd92-051d-44ec-ae6a-476c03789d6a",
   "metadata": {},
   "outputs": [
    {
     "name": "stdout",
     "output_type": "stream",
     "text": [
      "+-----------+-------+-------------+-------------+-------+----+------------------------+---+-------+\n",
      "|Pregnancies|Glucose|BloodPressure|SkinThickness|Insulin| BMI|DiabetesPedigreeFunction|Age|Outcome|\n",
      "+-----------+-------+-------------+-------------+-------+----+------------------------+---+-------+\n",
      "|          6|    148|           72|           35|      0|33.6|                   0.627| 50|      1|\n",
      "|          1|     85|           66|           29|      0|26.6|                   0.351| 31|      0|\n",
      "|          8|    183|           64|            0|      0|23.3|                   0.672| 32|      1|\n",
      "|          1|     89|           66|           23|     94|28.1|                   0.167| 21|      0|\n",
      "|          0|    137|           40|           35|    168|43.1|                   2.288| 33|      1|\n",
      "+-----------+-------+-------------+-------------+-------+----+------------------------+---+-------+\n",
      "only showing top 5 rows\n",
      "\n"
     ]
    }
   ],
   "source": [
    "df_diabetes.show(5)"
   ]
  },
  {
   "cell_type": "code",
   "execution_count": 66,
   "id": "08324c77-6ccb-49a5-a85d-7be74e1990a8",
   "metadata": {},
   "outputs": [
    {
     "data": {
      "text/plain": [
       "pyspark.sql.dataframe.DataFrame"
      ]
     },
     "execution_count": 66,
     "metadata": {},
     "output_type": "execute_result"
    }
   ],
   "source": [
    "type(df_diabetes)"
   ]
  },
  {
   "cell_type": "markdown",
   "id": "31ec452c-4455-460b-94ea-f432d7aee219",
   "metadata": {},
   "source": [
    "### 5.1. Adding columns into the Dataframe"
   ]
  },
  {
   "cell_type": "code",
   "execution_count": 67,
   "id": "18e37e57-e00d-4f60-8644-8085a6b5a14b",
   "metadata": {},
   "outputs": [],
   "source": [
    "df_diabetes = df_diabetes.withColumn(\"Age in days\", df_diabetes.Age*365)"
   ]
  },
  {
   "cell_type": "code",
   "execution_count": 68,
   "id": "4ea2db6f-d86d-44ed-9338-41886c5c835e",
   "metadata": {},
   "outputs": [],
   "source": [
    "df_diabetes = df_diabetes.withColumn(\"Age in days II\", col(\"Age\")*365)"
   ]
  },
  {
   "cell_type": "code",
   "execution_count": 69,
   "id": "f47095e1-638f-4486-b585-5438b8c74cef",
   "metadata": {},
   "outputs": [
    {
     "name": "stdout",
     "output_type": "stream",
     "text": [
      "+-----------+-------+-------------+-------------+-------+----+------------------------+---+-------+-----------+--------------+\n",
      "|Pregnancies|Glucose|BloodPressure|SkinThickness|Insulin| BMI|DiabetesPedigreeFunction|Age|Outcome|Age in days|Age in days II|\n",
      "+-----------+-------+-------------+-------------+-------+----+------------------------+---+-------+-----------+--------------+\n",
      "|          6|    148|           72|           35|      0|33.6|                   0.627| 50|      1|    18250.0|       18250.0|\n",
      "|          1|     85|           66|           29|      0|26.6|                   0.351| 31|      0|    11315.0|       11315.0|\n",
      "|          8|    183|           64|            0|      0|23.3|                   0.672| 32|      1|    11680.0|       11680.0|\n",
      "|          1|     89|           66|           23|     94|28.1|                   0.167| 21|      0|     7665.0|        7665.0|\n",
      "|          0|    137|           40|           35|    168|43.1|                   2.288| 33|      1|    12045.0|       12045.0|\n",
      "+-----------+-------+-------------+-------------+-------+----+------------------------+---+-------+-----------+--------------+\n",
      "only showing top 5 rows\n",
      "\n"
     ]
    }
   ],
   "source": [
    "df_diabetes.show(5)"
   ]
  },
  {
   "cell_type": "markdown",
   "id": "ef6233e6-3491-45cf-9c2d-cfcbe78ca5d4",
   "metadata": {},
   "source": [
    "#### 5.1.1. Rename column Name"
   ]
  },
  {
   "cell_type": "code",
   "execution_count": 84,
   "id": "a2fab8bb-8769-4e40-8d65-9fcffa669fe5",
   "metadata": {},
   "outputs": [],
   "source": [
    "df_diabetes = df_diabetes.withColumnRenamed(\"Age in days II\", \"Age II\")"
   ]
  },
  {
   "cell_type": "code",
   "execution_count": 86,
   "id": "ceadf0cc-af18-4ab4-b3f0-030c02c826b4",
   "metadata": {},
   "outputs": [
    {
     "name": "stdout",
     "output_type": "stream",
     "text": [
      "+-----------+-------+-------------+-------------+-------+----+------------------------+---+-------+-----------+------+---------------+-----------------+\n",
      "|Pregnancies|Glucose|BloodPressure|SkinThickness|Insulin| BMI|DiabetesPedigreeFunction|Age|Outcome|Age in days|Age II|Patient country|Patient continent|\n",
      "+-----------+-------+-------------+-------------+-------+----+------------------------+---+-------+-----------+------+---------------+-----------------+\n",
      "|          6|    148|           72|           35|      0|33.6|                   0.627| 50|      1|    18250.0| 18250|         France|           Europe|\n",
      "|          1|     85|           66|           29|      0|26.6|                   0.351| 31|      0|    11315.0| 11315|         France|           Europe|\n",
      "|          8|    183|           64|            0|      0|23.3|                   0.672| 32|      1|    11680.0| 11680|         France|           Europe|\n",
      "|          1|     89|           66|           23|     94|28.1|                   0.167| 21|      0|     7665.0|  7665|         France|    South America|\n",
      "|          0|    137|           40|           35|    168|43.1|                   2.288| 33|      1|    12045.0| 12045|         France|           Europe|\n",
      "+-----------+-------+-------------+-------------+-------+----+------------------------+---+-------+-----------+------+---------------+-----------------+\n",
      "only showing top 5 rows\n",
      "\n"
     ]
    }
   ],
   "source": [
    "df_diabetes.show(5)"
   ]
  },
  {
   "cell_type": "markdown",
   "id": "c6fe6cfc-1839-4af3-bc2a-1b02176a0fec",
   "metadata": {},
   "source": [
    "### 5.2. Casting  a column"
   ]
  },
  {
   "cell_type": "markdown",
   "id": "60e01cbf-f051-40f4-922f-612cdbf0fce0",
   "metadata": {},
   "source": [
    "Let's cast the age columns in days from float to int"
   ]
  },
  {
   "cell_type": "code",
   "execution_count": 70,
   "id": "aaaa9226-ba02-482d-a378-e511c0053bb4",
   "metadata": {},
   "outputs": [
    {
     "data": {
      "text/plain": [
       "DataFrame[Pregnancies: string, Glucose: string, BloodPressure: string, SkinThickness: string, Insulin: string, BMI: string, DiabetesPedigreeFunction: string, Age: string, Outcome: string, Age in days: double, Age in days II: int]"
      ]
     },
     "execution_count": 70,
     "metadata": {},
     "output_type": "execute_result"
    }
   ],
   "source": [
    "df_diabetes.withColumn(\"Age in days II\", col(\"Age in days II\").cast(\"Integer\"))"
   ]
  },
  {
   "cell_type": "code",
   "execution_count": 71,
   "id": "5dc5827a-9b9a-4ca7-829b-6f186b3329c8",
   "metadata": {},
   "outputs": [
    {
     "name": "stdout",
     "output_type": "stream",
     "text": [
      "+-----------+-------+-------------+-------------+-------+----+------------------------+---+-------+-----------+--------------+\n",
      "|Pregnancies|Glucose|BloodPressure|SkinThickness|Insulin| BMI|DiabetesPedigreeFunction|Age|Outcome|Age in days|Age in days II|\n",
      "+-----------+-------+-------------+-------------+-------+----+------------------------+---+-------+-----------+--------------+\n",
      "|          6|    148|           72|           35|      0|33.6|                   0.627| 50|      1|    18250.0|       18250.0|\n",
      "|          1|     85|           66|           29|      0|26.6|                   0.351| 31|      0|    11315.0|       11315.0|\n",
      "|          8|    183|           64|            0|      0|23.3|                   0.672| 32|      1|    11680.0|       11680.0|\n",
      "|          1|     89|           66|           23|     94|28.1|                   0.167| 21|      0|     7665.0|        7665.0|\n",
      "|          0|    137|           40|           35|    168|43.1|                   2.288| 33|      1|    12045.0|       12045.0|\n",
      "+-----------+-------+-------------+-------------+-------+----+------------------------+---+-------+-----------+--------------+\n",
      "only showing top 5 rows\n",
      "\n"
     ]
    }
   ],
   "source": [
    "df_diabetes.show(5)"
   ]
  },
  {
   "cell_type": "code",
   "execution_count": 72,
   "id": "bd44fbe2-d21d-4c3b-be61-653397baaff8",
   "metadata": {},
   "outputs": [
    {
     "name": "stdout",
     "output_type": "stream",
     "text": [
      "root\n",
      " |-- Pregnancies: string (nullable = true)\n",
      " |-- Glucose: string (nullable = true)\n",
      " |-- BloodPressure: string (nullable = true)\n",
      " |-- SkinThickness: string (nullable = true)\n",
      " |-- Insulin: string (nullable = true)\n",
      " |-- BMI: string (nullable = true)\n",
      " |-- DiabetesPedigreeFunction: string (nullable = true)\n",
      " |-- Age: string (nullable = true)\n",
      " |-- Outcome: string (nullable = true)\n",
      " |-- Age in days: double (nullable = true)\n",
      " |-- Age in days II: double (nullable = true)\n",
      "\n"
     ]
    }
   ],
   "source": [
    "df_diabetes.printSchema()"
   ]
  },
  {
   "cell_type": "code",
   "execution_count": 73,
   "id": "aced87b3-7464-4d37-bc4f-34feba4ff618",
   "metadata": {},
   "outputs": [],
   "source": [
    "df_diabetes = df_diabetes.withColumn(\"Age in days II\", col(\"Age in days II\").cast(\"Integer\"))"
   ]
  },
  {
   "cell_type": "code",
   "execution_count": 74,
   "id": "c93b4117-4890-443b-9ae1-0bb57e0c8201",
   "metadata": {},
   "outputs": [
    {
     "name": "stdout",
     "output_type": "stream",
     "text": [
      "+-----------+-------+-------------+-------------+-------+----+------------------------+---+-------+-----------+--------------+\n",
      "|Pregnancies|Glucose|BloodPressure|SkinThickness|Insulin| BMI|DiabetesPedigreeFunction|Age|Outcome|Age in days|Age in days II|\n",
      "+-----------+-------+-------------+-------------+-------+----+------------------------+---+-------+-----------+--------------+\n",
      "|          6|    148|           72|           35|      0|33.6|                   0.627| 50|      1|    18250.0|         18250|\n",
      "|          1|     85|           66|           29|      0|26.6|                   0.351| 31|      0|    11315.0|         11315|\n",
      "|          8|    183|           64|            0|      0|23.3|                   0.672| 32|      1|    11680.0|         11680|\n",
      "|          1|     89|           66|           23|     94|28.1|                   0.167| 21|      0|     7665.0|          7665|\n",
      "|          0|    137|           40|           35|    168|43.1|                   2.288| 33|      1|    12045.0|         12045|\n",
      "+-----------+-------+-------------+-------------+-------+----+------------------------+---+-------+-----------+--------------+\n",
      "only showing top 5 rows\n",
      "\n"
     ]
    }
   ],
   "source": [
    "df_diabetes.show(5)"
   ]
  },
  {
   "cell_type": "code",
   "execution_count": 75,
   "id": "21cd9557-1bde-47c7-b8a5-cdb57dc5bc69",
   "metadata": {},
   "outputs": [
    {
     "name": "stdout",
     "output_type": "stream",
     "text": [
      "root\n",
      " |-- Pregnancies: string (nullable = true)\n",
      " |-- Glucose: string (nullable = true)\n",
      " |-- BloodPressure: string (nullable = true)\n",
      " |-- SkinThickness: string (nullable = true)\n",
      " |-- Insulin: string (nullable = true)\n",
      " |-- BMI: string (nullable = true)\n",
      " |-- DiabetesPedigreeFunction: string (nullable = true)\n",
      " |-- Age: string (nullable = true)\n",
      " |-- Outcome: string (nullable = true)\n",
      " |-- Age in days: double (nullable = true)\n",
      " |-- Age in days II: integer (nullable = true)\n",
      "\n"
     ]
    }
   ],
   "source": [
    "df_diabetes.printSchema()"
   ]
  },
  {
   "cell_type": "markdown",
   "id": "acd465e1-f597-4eed-8ef1-5fd5959a4f2a",
   "metadata": {},
   "source": [
    "### 5.3. Selecting data with select and getItem"
   ]
  },
  {
   "cell_type": "code",
   "execution_count": 35,
   "id": "950b231a-27e5-4205-aed9-0f8ac2e8c06b",
   "metadata": {},
   "outputs": [],
   "source": [
    "df_temp = spark.createDataFrame([([1, 2], {\"key\": \"value\"})], [\"l\", \"d\"])"
   ]
  },
  {
   "cell_type": "code",
   "execution_count": 36,
   "id": "0e460485-e342-4b44-a7c8-bb51d00d9fd9",
   "metadata": {},
   "outputs": [
    {
     "name": "stdout",
     "output_type": "stream",
     "text": [
      "+------+--------------+\n",
      "|     l|             d|\n",
      "+------+--------------+\n",
      "|[1, 2]|{key -> value}|\n",
      "+------+--------------+\n",
      "\n"
     ]
    }
   ],
   "source": [
    "df_temp.show()"
   ]
  },
  {
   "cell_type": "code",
   "execution_count": 37,
   "id": "8c469327-6d82-4b5b-9f97-4987bc08901a",
   "metadata": {},
   "outputs": [
    {
     "name": "stdout",
     "output_type": "stream",
     "text": [
      "+----+------+\n",
      "|l[0]|d[key]|\n",
      "+----+------+\n",
      "|   1| value|\n",
      "+----+------+\n",
      "\n"
     ]
    }
   ],
   "source": [
    "df_temp.select(df_temp.l.getItem(0), df_temp.d.getItem(\"key\")).show()"
   ]
  },
  {
   "cell_type": "code",
   "execution_count": 44,
   "id": "9615c54c-b7f8-4b1b-9d76-99b159f23139",
   "metadata": {},
   "outputs": [],
   "source": [
    "df_temp = spark.createDataFrame([\n",
    "                ([1, 2], {\"key\": \"value\"}),\n",
    "                ([3, 4, 5], {\"name\": \"math\"})\n",
    "            ], [\"l\", \"d\"])"
   ]
  },
  {
   "cell_type": "code",
   "execution_count": 45,
   "id": "1b5c6e19-114d-4f27-b75d-6672329cbeac",
   "metadata": {},
   "outputs": [
    {
     "name": "stdout",
     "output_type": "stream",
     "text": [
      "+---------+--------------+\n",
      "|        l|             d|\n",
      "+---------+--------------+\n",
      "|   [1, 2]|{key -> value}|\n",
      "|[3, 4, 5]|{name -> math}|\n",
      "+---------+--------------+\n",
      "\n"
     ]
    }
   ],
   "source": [
    "df_temp.show()"
   ]
  },
  {
   "cell_type": "code",
   "execution_count": 46,
   "id": "1bae71db-41c8-4f02-a3c1-1586d491e991",
   "metadata": {},
   "outputs": [
    {
     "name": "stdout",
     "output_type": "stream",
     "text": [
      "+----+------+\n",
      "|l[0]|d[key]|\n",
      "+----+------+\n",
      "|   1| value|\n",
      "|   3|  null|\n",
      "+----+------+\n",
      "\n"
     ]
    }
   ],
   "source": [
    "df_temp.select(df_temp.l.getItem(0), df_temp.d.getItem(\"key\")).show()"
   ]
  },
  {
   "cell_type": "code",
   "execution_count": 50,
   "id": "c719a6f2-eca8-47d6-a529-11f2953600d5",
   "metadata": {},
   "outputs": [
    {
     "name": "stdout",
     "output_type": "stream",
     "text": [
      "+----+-------+\n",
      "|l[2]|d[name]|\n",
      "+----+-------+\n",
      "|null|   null|\n",
      "|   5|   math|\n",
      "+----+-------+\n",
      "\n"
     ]
    }
   ],
   "source": [
    "df_temp.select(df_temp.l.getItem(2), df_temp.d.getItem(\"name\")).show()"
   ]
  },
  {
   "cell_type": "markdown",
   "id": "7bcda4f4-1045-41b3-b8d3-3aa072e50932",
   "metadata": {},
   "source": [
    "### 5.4. Adding a constant value through lit()"
   ]
  },
  {
   "cell_type": "code",
   "execution_count": 76,
   "id": "f2402482-7a3d-4f80-ba27-b8c84e6f71b2",
   "metadata": {},
   "outputs": [
    {
     "data": {
      "text/plain": [
       "DataFrame[Pregnancies: string, Glucose: string, BloodPressure: string, SkinThickness: string, Insulin: string, BMI: string, DiabetesPedigreeFunction: string, Age: string, Outcome: string, Age in days: double, Age in days II: int, Patient country: string]"
      ]
     },
     "execution_count": 76,
     "metadata": {},
     "output_type": "execute_result"
    }
   ],
   "source": [
    "df_diabetes.withColumn(\"Patient country\", lit(\"France\"))"
   ]
  },
  {
   "cell_type": "code",
   "execution_count": 77,
   "id": "21e332ad-caa0-48e6-b397-b51d13a4dfb0",
   "metadata": {},
   "outputs": [
    {
     "name": "stdout",
     "output_type": "stream",
     "text": [
      "+-----------+-------+-------------+-------------+-------+----+------------------------+---+-------+-----------+--------------+\n",
      "|Pregnancies|Glucose|BloodPressure|SkinThickness|Insulin| BMI|DiabetesPedigreeFunction|Age|Outcome|Age in days|Age in days II|\n",
      "+-----------+-------+-------------+-------------+-------+----+------------------------+---+-------+-----------+--------------+\n",
      "|          6|    148|           72|           35|      0|33.6|                   0.627| 50|      1|    18250.0|         18250|\n",
      "|          1|     85|           66|           29|      0|26.6|                   0.351| 31|      0|    11315.0|         11315|\n",
      "|          8|    183|           64|            0|      0|23.3|                   0.672| 32|      1|    11680.0|         11680|\n",
      "|          1|     89|           66|           23|     94|28.1|                   0.167| 21|      0|     7665.0|          7665|\n",
      "|          0|    137|           40|           35|    168|43.1|                   2.288| 33|      1|    12045.0|         12045|\n",
      "+-----------+-------+-------------+-------------+-------+----+------------------------+---+-------+-----------+--------------+\n",
      "only showing top 5 rows\n",
      "\n"
     ]
    }
   ],
   "source": [
    "df_diabetes.show(5)"
   ]
  },
  {
   "cell_type": "code",
   "execution_count": 78,
   "id": "3f80af19-2037-42cc-a451-75f55d966dec",
   "metadata": {},
   "outputs": [],
   "source": [
    "df_diabetes = df_diabetes.withColumn(\"Patient country\", lit(\"France\"))"
   ]
  },
  {
   "cell_type": "code",
   "execution_count": 79,
   "id": "9cdb07e5-0096-496d-9404-badd102220b0",
   "metadata": {},
   "outputs": [
    {
     "name": "stdout",
     "output_type": "stream",
     "text": [
      "+-----------+-------+-------------+-------------+-------+----+------------------------+---+-------+-----------+--------------+---------------+\n",
      "|Pregnancies|Glucose|BloodPressure|SkinThickness|Insulin| BMI|DiabetesPedigreeFunction|Age|Outcome|Age in days|Age in days II|Patient country|\n",
      "+-----------+-------+-------------+-------------+-------+----+------------------------+---+-------+-----------+--------------+---------------+\n",
      "|          6|    148|           72|           35|      0|33.6|                   0.627| 50|      1|    18250.0|         18250|         France|\n",
      "|          1|     85|           66|           29|      0|26.6|                   0.351| 31|      0|    11315.0|         11315|         France|\n",
      "|          8|    183|           64|            0|      0|23.3|                   0.672| 32|      1|    11680.0|         11680|         France|\n",
      "|          1|     89|           66|           23|     94|28.1|                   0.167| 21|      0|     7665.0|          7665|         France|\n",
      "|          0|    137|           40|           35|    168|43.1|                   2.288| 33|      1|    12045.0|         12045|         France|\n",
      "+-----------+-------+-------------+-------------+-------+----+------------------------+---+-------+-----------+--------------+---------------+\n",
      "only showing top 5 rows\n",
      "\n"
     ]
    }
   ],
   "source": [
    "df_diabetes.show(5)"
   ]
  },
  {
   "cell_type": "markdown",
   "id": "e345259c-e6e1-4b58-8544-15b6dd37e444",
   "metadata": {},
   "source": [
    "#### 5.4.1. Going beyond with __**lit()**__ and using __**when()**__"
   ]
  },
  {
   "cell_type": "markdown",
   "id": "3d92470a-9894-482d-b2cd-ae270c0553ff",
   "metadata": {},
   "source": [
    "In this case, we are going to same that if the patient is under 30 the patient is from South America, otherwise, the patient is from Europe.\n",
    "\n",
    "To do that, we are going to use **when**"
   ]
  },
  {
   "cell_type": "code",
   "execution_count": 82,
   "id": "0b651270-87b0-4dfe-a889-6a88adf1585a",
   "metadata": {},
   "outputs": [],
   "source": [
    "df_diabetes = df_diabetes.withColumn(\"Patient continent\", when(col(\"Age\")<30, lit(\"South America\")).otherwise(lit(\"Europe\")))"
   ]
  },
  {
   "cell_type": "code",
   "execution_count": 83,
   "id": "94fd34fa-71e0-4c59-b4a1-9d6b9861f7fc",
   "metadata": {},
   "outputs": [
    {
     "name": "stdout",
     "output_type": "stream",
     "text": [
      "+-----------+-------+-------------+-------------+-------+----+------------------------+---+-------+-----------+--------------+---------------+-----------------+\n",
      "|Pregnancies|Glucose|BloodPressure|SkinThickness|Insulin| BMI|DiabetesPedigreeFunction|Age|Outcome|Age in days|Age in days II|Patient country|Patient continent|\n",
      "+-----------+-------+-------------+-------------+-------+----+------------------------+---+-------+-----------+--------------+---------------+-----------------+\n",
      "|          6|    148|           72|           35|      0|33.6|                   0.627| 50|      1|    18250.0|         18250|         France|           Europe|\n",
      "|          1|     85|           66|           29|      0|26.6|                   0.351| 31|      0|    11315.0|         11315|         France|           Europe|\n",
      "|          8|    183|           64|            0|      0|23.3|                   0.672| 32|      1|    11680.0|         11680|         France|           Europe|\n",
      "|          1|     89|           66|           23|     94|28.1|                   0.167| 21|      0|     7665.0|          7665|         France|    South America|\n",
      "|          0|    137|           40|           35|    168|43.1|                   2.288| 33|      1|    12045.0|         12045|         France|           Europe|\n",
      "+-----------+-------+-------------+-------------+-------+----+------------------------+---+-------+-----------+--------------+---------------+-----------------+\n",
      "only showing top 5 rows\n",
      "\n"
     ]
    }
   ],
   "source": [
    "df_diabetes.show(5)"
   ]
  },
  {
   "cell_type": "markdown",
   "id": "8fc3d23a-8d05-4190-8a62-b319162aa509",
   "metadata": {},
   "source": [
    "### 5.5. Drop column"
   ]
  },
  {
   "cell_type": "code",
   "execution_count": 87,
   "id": "9e68d4bd-6da6-44f9-9f1b-e2c4727e67a2",
   "metadata": {},
   "outputs": [],
   "source": [
    "df_diabetes = df_diabetes.drop(\"Patient country\")"
   ]
  },
  {
   "cell_type": "code",
   "execution_count": 88,
   "id": "bb922410-fed9-4c8f-9ef6-98156397b6cf",
   "metadata": {},
   "outputs": [
    {
     "name": "stdout",
     "output_type": "stream",
     "text": [
      "+-----------+-------+-------------+-------------+-------+----+------------------------+---+-------+-----------+------+-----------------+\n",
      "|Pregnancies|Glucose|BloodPressure|SkinThickness|Insulin| BMI|DiabetesPedigreeFunction|Age|Outcome|Age in days|Age II|Patient continent|\n",
      "+-----------+-------+-------------+-------------+-------+----+------------------------+---+-------+-----------+------+-----------------+\n",
      "|          6|    148|           72|           35|      0|33.6|                   0.627| 50|      1|    18250.0| 18250|           Europe|\n",
      "|          1|     85|           66|           29|      0|26.6|                   0.351| 31|      0|    11315.0| 11315|           Europe|\n",
      "|          8|    183|           64|            0|      0|23.3|                   0.672| 32|      1|    11680.0| 11680|           Europe|\n",
      "|          1|     89|           66|           23|     94|28.1|                   0.167| 21|      0|     7665.0|  7665|    South America|\n",
      "|          0|    137|           40|           35|    168|43.1|                   2.288| 33|      1|    12045.0| 12045|           Europe|\n",
      "+-----------+-------+-------------+-------------+-------+----+------------------------+---+-------+-----------+------+-----------------+\n",
      "only showing top 5 rows\n",
      "\n"
     ]
    }
   ],
   "source": [
    "df_diabetes.show(5)"
   ]
  },
  {
   "cell_type": "markdown",
   "id": "8427bb5d-f241-4d99-9323-d328165ed9e1",
   "metadata": {},
   "source": [
    "### 5.6. Selecting columns based on conditions"
   ]
  },
  {
   "cell_type": "code",
   "execution_count": 103,
   "id": "4f5b7352-7c04-4a6f-a707-e5c3340b0b50",
   "metadata": {},
   "outputs": [
    {
     "name": "stdout",
     "output_type": "stream",
     "text": [
      "+-------+-------------+---+\n",
      "|Glucose|BloodPressure|Age|\n",
      "+-------+-------------+---+\n",
      "|     85|           66| 31|\n",
      "|    183|           64| 32|\n",
      "|    137|           40| 33|\n",
      "|    168|           74| 34|\n",
      "|    100|            0| 32|\n",
      "+-------+-------------+---+\n",
      "only showing top 5 rows\n",
      "\n"
     ]
    }
   ],
   "source": [
    "df_diabetes.select(col(\"Glucose\"), col(\"BloodPressure\"), col(\"Age\"))\\\n",
    "            .filter((col(\"Age\")>30) & (col(\"Age\")<35))\\\n",
    "            .show(5)"
   ]
  },
  {
   "cell_type": "markdown",
   "id": "d097fbe1-f761-494e-9b3b-d75208e9eac8",
   "metadata": {},
   "source": [
    "#### 5.6.1. Selecting columns based on conditions using alias"
   ]
  },
  {
   "cell_type": "code",
   "execution_count": 105,
   "id": "e0278b29-486a-430f-b637-9641d88cfd53",
   "metadata": {},
   "outputs": [
    {
     "name": "stdout",
     "output_type": "stream",
     "text": [
      "+-------+-------------+---+\n",
      "|Glucose|Blood_presure|Age|\n",
      "+-------+-------------+---+\n",
      "|    118|           84| 31|\n",
      "|    100|           88| 31|\n",
      "|    123|           80| 34|\n",
      "|    122|           90| 31|\n",
      "|    131|           88| 32|\n",
      "+-------+-------------+---+\n",
      "only showing top 5 rows\n",
      "\n"
     ]
    }
   ],
   "source": [
    "df_diabetes.select(col(\"Glucose\"), col(\"BloodPressure\").alias(\"Blood_presure\"), col(\"Age\"))\\\n",
    "            .filter((col(\"Age\")>30) & (col(\"Age\")<35) & (col(\"Blood_presure\")>74))\\\n",
    "            .show(5)"
   ]
  },
  {
   "cell_type": "code",
   "execution_count": null,
   "id": "399f4c81-595f-40f7-b884-2ec039fbc361",
   "metadata": {},
   "outputs": [],
   "source": []
  },
  {
   "cell_type": "code",
   "execution_count": null,
   "id": "119b6adc-5fd6-4a8b-8802-a89dcf667e5c",
   "metadata": {},
   "outputs": [],
   "source": []
  },
  {
   "cell_type": "code",
   "execution_count": null,
   "id": "130367e9-e527-4df4-8edc-f82f06811320",
   "metadata": {},
   "outputs": [],
   "source": []
  },
  {
   "cell_type": "code",
   "execution_count": null,
   "id": "4c79f16b-06d1-4bae-bfff-478866eee9ea",
   "metadata": {},
   "outputs": [],
   "source": []
  },
  {
   "cell_type": "code",
   "execution_count": null,
   "id": "af2677f5-d80c-4739-aa29-03bcda86fc29",
   "metadata": {},
   "outputs": [],
   "source": []
  },
  {
   "cell_type": "markdown",
   "id": "7827faa9-cd57-4a50-90e2-9e99e4cc77e9",
   "metadata": {},
   "source": [
    "from datetime import date\n",
    " \n",
    "def age(birthdate):\n",
    "    today = date.today()\n",
    "    age = today.year - birthdate.year - ((today.month, today.day) < (birthdate.month, birthdate.day))\n",
    "    return age"
   ]
  }
 ],
 "metadata": {
  "kernelspec": {
   "display_name": "Python 3 (ipykernel)",
   "language": "python",
   "name": "python3"
  },
  "language_info": {
   "codemirror_mode": {
    "name": "ipython",
    "version": 3
   },
   "file_extension": ".py",
   "mimetype": "text/x-python",
   "name": "python",
   "nbconvert_exporter": "python",
   "pygments_lexer": "ipython3",
   "version": "3.10.6"
  }
 },
 "nbformat": 4,
 "nbformat_minor": 5
}
