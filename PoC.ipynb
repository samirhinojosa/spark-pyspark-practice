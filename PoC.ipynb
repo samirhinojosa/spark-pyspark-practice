{
 "cells": [
  {
   "cell_type": "markdown",
   "id": "f68aee34-235d-4c32-9389-9db1d84f34fc",
   "metadata": {},
   "source": [
    "<h1 style=\"margin: auto; font-weight: bold; padding: 30px 30px 0px 30px; color:#FFF;\" align=\"center\">Cleaning and Exploring Big Data using PySpark</h1>\n",
    "<p style=\"width: 100%; text-align: center; margin: 0px; padding: 0px 0px 30px 0px; font-size: 24px; color:#FFF;\" align=\"center\">| Spark - PySpark practice |</p>\n"
   ]
  },
  {
   "cell_type": "markdown",
   "id": "71857cd8-6f1f-498a-a4b2-a7a0e32260ae",
   "metadata": {},
   "source": [
    "## 1. Libraries"
   ]
  },
  {
   "cell_type": "code",
   "execution_count": 1,
   "id": "b97014f5-9e77-4785-8e36-22b34035c531",
   "metadata": {},
   "outputs": [],
   "source": [
    "from pyspark import SparkFiles\n",
    "from pyspark.sql import SparkSession\n",
    "from pyspark.sql.functions import col, lit, when, round, asc, desc\n",
    "\n",
    "import pyspark.sql.functions as F\n",
    "from pyspark.sql.functions import (sum, avg, max, min, \n",
    "                                   mean, count, round,\n",
    "                                  udf, concat)\n",
    "\n",
    "from pyspark.sql.types import StringType"
   ]
  },
  {
   "cell_type": "markdown",
   "id": "96f74305-aeb8-4119-845e-45af70ca595e",
   "metadata": {},
   "source": [
    "## 2. Set up SparkSession"
   ]
  },
  {
   "cell_type": "code",
   "execution_count": 2,
   "id": "7d7319d6-3682-450f-ab02-71a3c3cf4957",
   "metadata": {
    "tags": []
   },
   "outputs": [
    {
     "data": {
      "text/html": [
       "\n",
       "            <div>\n",
       "                <p><b>SparkSession - in-memory</b></p>\n",
       "                \n",
       "        <div>\n",
       "            <p><b>SparkContext</b></p>\n",
       "\n",
       "            <p><a href=\"http://c8fdbb2cdc52:4040\">Spark UI</a></p>\n",
       "\n",
       "            <dl>\n",
       "              <dt>Version</dt>\n",
       "                <dd><code>v3.3.0</code></dd>\n",
       "              <dt>Master</dt>\n",
       "                <dd><code>local[1]</code></dd>\n",
       "              <dt>AppName</dt>\n",
       "                <dd><code>PoC</code></dd>\n",
       "            </dl>\n",
       "        </div>\n",
       "        \n",
       "            </div>\n",
       "        "
      ],
      "text/plain": [
       "<pyspark.sql.session.SparkSession at 0x7f694c5089d0>"
      ]
     },
     "execution_count": 2,
     "metadata": {},
     "output_type": "execute_result"
    }
   ],
   "source": [
    "spark = (\n",
    "    SparkSession\n",
    "    .builder\n",
    "    .master(\"local[1]\")\n",
    "    .appName(\"PoC\")\n",
    "    .getOrCreate()\n",
    ")\n",
    "\n",
    "sc = spark.sparkContext\n",
    "\n",
    "spark"
   ]
  },
  {
   "cell_type": "markdown",
   "id": "3085661a-08c0-4b75-bb99-e057b33d4358",
   "metadata": {},
   "source": [
    "## 2. Initial testing"
   ]
  },
  {
   "cell_type": "code",
   "execution_count": 3,
   "id": "1d2ddf64-571c-450d-a45f-9e65c3c02a15",
   "metadata": {},
   "outputs": [],
   "source": [
    "rdd_test = sc.parallelize(range(1000))"
   ]
  },
  {
   "cell_type": "code",
   "execution_count": 4,
   "id": "d7bc2271-412a-468a-9fca-744545e8fcdf",
   "metadata": {},
   "outputs": [
    {
     "data": {
      "text/plain": [
       "[355, 551, 914, 991, 206]"
      ]
     },
     "execution_count": 4,
     "metadata": {},
     "output_type": "execute_result"
    }
   ],
   "source": [
    "rdd_test.takeSample(False, 5)"
   ]
  },
  {
   "cell_type": "code",
   "execution_count": 5,
   "id": "faf12e03-6b25-455f-9e8f-25294cb2f197",
   "metadata": {},
   "outputs": [
    {
     "name": "stdout",
     "output_type": "stream",
     "text": [
      "<class 'pyspark.rdd.PipelinedRDD'>\n"
     ]
    }
   ],
   "source": [
    "print(type(rdd_test))"
   ]
  },
  {
   "cell_type": "code",
   "execution_count": 6,
   "id": "d0500110-2466-4684-bc86-9e0f53b32601",
   "metadata": {},
   "outputs": [],
   "source": [
    "rdd = sc.parallelize([('C',85,76,87,91), ('B',85,76,87,91), (\"A\", 85,78,96,92), (\"A\", 92,76,89,96)], 4)"
   ]
  },
  {
   "cell_type": "code",
   "execution_count": 7,
   "id": "27454ee8-b9f0-4f43-a902-5013d328d387",
   "metadata": {},
   "outputs": [
    {
     "name": "stdout",
     "output_type": "stream",
     "text": [
      "<class 'pyspark.rdd.RDD'>\n"
     ]
    }
   ],
   "source": [
    "print(type(rdd))"
   ]
  },
  {
   "cell_type": "markdown",
   "id": "31ff28ad-50b6-4ee8-955b-40b067a7cc80",
   "metadata": {},
   "source": [
    "## 3. Using createDataframe()"
   ]
  },
  {
   "cell_type": "code",
   "execution_count": 8,
   "id": "cf948cae-fc79-41b6-9cf1-d2fc4a19bacc",
   "metadata": {},
   "outputs": [],
   "source": [
    "data = [\n",
    "    (\"James\", \"\", \"Smith\", \"1991-04-01\", \"M\", 3000),\n",
    "    (\"Michael\", \"Rose\", \"\", \"2000-05-19\", \"M\", 4000),\n",
    "    (\"Robert\", \"\", \"Williams\", \"1978-09-05\", \"M\", 4000),\n",
    "    (\"Maria\", \"Anne\", \"Jones\", \"1967-12-01\", \"F\", 4000),\n",
    "    (\"Jen\", \"Mary\", \"Brown\", \"1980-02-17\", \"F\", -1)\n",
    "]"
   ]
  },
  {
   "cell_type": "code",
   "execution_count": 9,
   "id": "abf35a23-b88a-4180-817a-5d4d04e7b736",
   "metadata": {},
   "outputs": [],
   "source": [
    "COLUMNS = [\"firstname\", \"middlename\", \"lastname\", \"dob\", \"gender\", \"salary\"]\n",
    "\n",
    "df = spark.createDataFrame(data=data, schema=COLUMNS)"
   ]
  },
  {
   "cell_type": "code",
   "execution_count": 10,
   "id": "c9bcf40c-8091-4d24-9828-ca61a0da32a7",
   "metadata": {},
   "outputs": [
    {
     "name": "stdout",
     "output_type": "stream",
     "text": [
      "root\n",
      " |-- firstname: string (nullable = true)\n",
      " |-- middlename: string (nullable = true)\n",
      " |-- lastname: string (nullable = true)\n",
      " |-- dob: string (nullable = true)\n",
      " |-- gender: string (nullable = true)\n",
      " |-- salary: long (nullable = true)\n",
      "\n"
     ]
    }
   ],
   "source": [
    "df.printSchema()"
   ]
  },
  {
   "cell_type": "code",
   "execution_count": 11,
   "id": "e7936ab6-4578-47dc-bda3-49cb289151d4",
   "metadata": {},
   "outputs": [
    {
     "name": "stdout",
     "output_type": "stream",
     "text": [
      "+---------+----------+--------+----------+------+------+\n",
      "|firstname|middlename|lastname|       dob|gender|salary|\n",
      "+---------+----------+--------+----------+------+------+\n",
      "|    James|          |   Smith|1991-04-01|     M|  3000|\n",
      "|  Michael|      Rose|        |2000-05-19|     M|  4000|\n",
      "|   Robert|          |Williams|1978-09-05|     M|  4000|\n",
      "|    Maria|      Anne|   Jones|1967-12-01|     F|  4000|\n",
      "|      Jen|      Mary|   Brown|1980-02-17|     F|    -1|\n",
      "+---------+----------+--------+----------+------+------+\n",
      "\n"
     ]
    }
   ],
   "source": [
    "df.show()"
   ]
  },
  {
   "cell_type": "code",
   "execution_count": 12,
   "id": "5a2cc61c-deaf-4e03-9204-a564ff60e545",
   "metadata": {},
   "outputs": [
    {
     "data": {
      "text/plain": [
       "['firstname', 'middlename', 'lastname', 'dob', 'gender', 'salary']"
      ]
     },
     "execution_count": 12,
     "metadata": {},
     "output_type": "execute_result"
    }
   ],
   "source": [
    "df.columns"
   ]
  },
  {
   "cell_type": "code",
   "execution_count": 13,
   "id": "a5ed63f3-98f8-414e-a8fa-09ca4d8c87c7",
   "metadata": {},
   "outputs": [
    {
     "name": "stdout",
     "output_type": "stream",
     "text": [
      "<class 'pyspark.sql.dataframe.DataFrame'>\n"
     ]
    }
   ],
   "source": [
    "print(type(df))"
   ]
  },
  {
   "cell_type": "markdown",
   "id": "bcd1ad31-d65d-4dff-a066-8dfa36e48d67",
   "metadata": {},
   "source": [
    "let's transform the dataframe to RDD"
   ]
  },
  {
   "cell_type": "code",
   "execution_count": 14,
   "id": "641fb35f-6efe-4fdf-a679-091df5cf7fdb",
   "metadata": {},
   "outputs": [],
   "source": [
    "rdd_df = df.rdd"
   ]
  },
  {
   "cell_type": "code",
   "execution_count": 15,
   "id": "06b7e7bf-48dc-45d2-94f5-1b714e6c56f0",
   "metadata": {},
   "outputs": [
    {
     "name": "stdout",
     "output_type": "stream",
     "text": [
      "<class 'pyspark.rdd.RDD'>\n"
     ]
    }
   ],
   "source": [
    "print(type(rdd_df))"
   ]
  },
  {
   "cell_type": "code",
   "execution_count": 16,
   "id": "56de1510-faf5-465b-8e2f-55fee120af00",
   "metadata": {},
   "outputs": [
    {
     "data": {
      "text/plain": [
       "[Row(firstname='James', middlename='', lastname='Smith', dob='1991-04-01', gender='M', salary=3000),\n",
       " Row(firstname='Michael', middlename='Rose', lastname='', dob='2000-05-19', gender='M', salary=4000),\n",
       " Row(firstname='Robert', middlename='', lastname='Williams', dob='1978-09-05', gender='M', salary=4000),\n",
       " Row(firstname='Maria', middlename='Anne', lastname='Jones', dob='1967-12-01', gender='F', salary=4000),\n",
       " Row(firstname='Jen', middlename='Mary', lastname='Brown', dob='1980-02-17', gender='F', salary=-1)]"
      ]
     },
     "execution_count": 16,
     "metadata": {},
     "output_type": "execute_result"
    }
   ],
   "source": [
    "rdd_df.collect()"
   ]
  },
  {
   "cell_type": "markdown",
   "id": "a2af4cab-4751-47cd-b20f-01b1c00255cd",
   "metadata": {},
   "source": [
    "## 4. Reading csv"
   ]
  },
  {
   "cell_type": "code",
   "execution_count": 17,
   "id": "936fcb17-844c-42a6-b79e-0e55e4cdf9bf",
   "metadata": {},
   "outputs": [],
   "source": [
    "df_diabetes = spark.read.csv(\"diabetes.csv\", header=True)"
   ]
  },
  {
   "cell_type": "code",
   "execution_count": 18,
   "id": "41a9963e-c3d7-465e-a469-d81e17395d1e",
   "metadata": {},
   "outputs": [
    {
     "name": "stdout",
     "output_type": "stream",
     "text": [
      "(768, 9)\n"
     ]
    }
   ],
   "source": [
    "print((df_diabetes.count(), len(df_diabetes.columns)))"
   ]
  },
  {
   "cell_type": "code",
   "execution_count": 19,
   "id": "9883b3a3-c611-455a-a8fd-96939ae126e3",
   "metadata": {},
   "outputs": [
    {
     "name": "stdout",
     "output_type": "stream",
     "text": [
      "root\n",
      " |-- Pregnancies: string (nullable = true)\n",
      " |-- Glucose: string (nullable = true)\n",
      " |-- BloodPressure: string (nullable = true)\n",
      " |-- SkinThickness: string (nullable = true)\n",
      " |-- Insulin: string (nullable = true)\n",
      " |-- BMI: string (nullable = true)\n",
      " |-- DiabetesPedigreeFunction: string (nullable = true)\n",
      " |-- Age: string (nullable = true)\n",
      " |-- Outcome: string (nullable = true)\n",
      "\n"
     ]
    }
   ],
   "source": [
    "df_diabetes.printSchema()"
   ]
  },
  {
   "cell_type": "code",
   "execution_count": 20,
   "id": "560212ce-ff6d-4db2-8f39-ce7f3c50418d",
   "metadata": {},
   "outputs": [
    {
     "name": "stdout",
     "output_type": "stream",
     "text": [
      "+-----------+-------+-------------+-------------+-------+----+------------------------+---+-------+\n",
      "|Pregnancies|Glucose|BloodPressure|SkinThickness|Insulin| BMI|DiabetesPedigreeFunction|Age|Outcome|\n",
      "+-----------+-------+-------------+-------------+-------+----+------------------------+---+-------+\n",
      "|          6|    148|           72|           35|      0|33.6|                   0.627| 50|      1|\n",
      "|          1|     85|           66|           29|      0|26.6|                   0.351| 31|      0|\n",
      "|          8|    183|           64|            0|      0|23.3|                   0.672| 32|      1|\n",
      "|          1|     89|           66|           23|     94|28.1|                   0.167| 21|      0|\n",
      "|          0|    137|           40|           35|    168|43.1|                   2.288| 33|      1|\n",
      "+-----------+-------+-------------+-------------+-------+----+------------------------+---+-------+\n",
      "only showing top 5 rows\n",
      "\n"
     ]
    }
   ],
   "source": [
    "df_diabetes.show(5)"
   ]
  },
  {
   "cell_type": "markdown",
   "id": "24056106-808c-46fb-bb1d-24daba29a7d8",
   "metadata": {},
   "source": [
    "### 4.1 Transforming Spark dataframe to pandas"
   ]
  },
  {
   "cell_type": "code",
   "execution_count": 21,
   "id": "abf68868-d3b7-40f0-9eee-74a70eac715e",
   "metadata": {},
   "outputs": [],
   "source": [
    "df_diabetes_pd = df_diabetes.toPandas()"
   ]
  },
  {
   "cell_type": "code",
   "execution_count": 22,
   "id": "187658dd-4651-478e-8e43-a8a9ddef1038",
   "metadata": {},
   "outputs": [
    {
     "data": {
      "text/plain": [
       "pandas.core.frame.DataFrame"
      ]
     },
     "execution_count": 22,
     "metadata": {},
     "output_type": "execute_result"
    }
   ],
   "source": [
    "type(df_diabetes_pd)"
   ]
  },
  {
   "cell_type": "code",
   "execution_count": 23,
   "id": "b464f1e3-3ea0-4f16-b83d-bd3121ea32d3",
   "metadata": {},
   "outputs": [
    {
     "data": {
      "text/plain": [
       "Outcome\n",
       "0    500\n",
       "1    268\n",
       "dtype: int64"
      ]
     },
     "execution_count": 23,
     "metadata": {},
     "output_type": "execute_result"
    }
   ],
   "source": [
    "df_diabetes_pd.value_counts(\"Outcome\")"
   ]
  },
  {
   "cell_type": "code",
   "execution_count": 24,
   "id": "5d89e9e2-ef64-4a5d-a389-e2ccebb1587a",
   "metadata": {},
   "outputs": [
    {
     "data": {
      "text/html": [
       "<div>\n",
       "<style scoped>\n",
       "    .dataframe tbody tr th:only-of-type {\n",
       "        vertical-align: middle;\n",
       "    }\n",
       "\n",
       "    .dataframe tbody tr th {\n",
       "        vertical-align: top;\n",
       "    }\n",
       "\n",
       "    .dataframe thead th {\n",
       "        text-align: right;\n",
       "    }\n",
       "</style>\n",
       "<table border=\"1\" class=\"dataframe\">\n",
       "  <thead>\n",
       "    <tr style=\"text-align: right;\">\n",
       "      <th></th>\n",
       "      <th>Pregnancies</th>\n",
       "      <th>Glucose</th>\n",
       "      <th>BloodPressure</th>\n",
       "      <th>SkinThickness</th>\n",
       "      <th>Insulin</th>\n",
       "      <th>BMI</th>\n",
       "      <th>DiabetesPedigreeFunction</th>\n",
       "      <th>Age</th>\n",
       "      <th>Outcome</th>\n",
       "    </tr>\n",
       "  </thead>\n",
       "  <tbody>\n",
       "    <tr>\n",
       "      <th>0</th>\n",
       "      <td>6</td>\n",
       "      <td>148</td>\n",
       "      <td>72</td>\n",
       "      <td>35</td>\n",
       "      <td>0</td>\n",
       "      <td>33.6</td>\n",
       "      <td>0.627</td>\n",
       "      <td>50</td>\n",
       "      <td>1</td>\n",
       "    </tr>\n",
       "    <tr>\n",
       "      <th>1</th>\n",
       "      <td>1</td>\n",
       "      <td>85</td>\n",
       "      <td>66</td>\n",
       "      <td>29</td>\n",
       "      <td>0</td>\n",
       "      <td>26.6</td>\n",
       "      <td>0.351</td>\n",
       "      <td>31</td>\n",
       "      <td>0</td>\n",
       "    </tr>\n",
       "    <tr>\n",
       "      <th>2</th>\n",
       "      <td>8</td>\n",
       "      <td>183</td>\n",
       "      <td>64</td>\n",
       "      <td>0</td>\n",
       "      <td>0</td>\n",
       "      <td>23.3</td>\n",
       "      <td>0.672</td>\n",
       "      <td>32</td>\n",
       "      <td>1</td>\n",
       "    </tr>\n",
       "    <tr>\n",
       "      <th>3</th>\n",
       "      <td>1</td>\n",
       "      <td>89</td>\n",
       "      <td>66</td>\n",
       "      <td>23</td>\n",
       "      <td>94</td>\n",
       "      <td>28.1</td>\n",
       "      <td>0.167</td>\n",
       "      <td>21</td>\n",
       "      <td>0</td>\n",
       "    </tr>\n",
       "    <tr>\n",
       "      <th>4</th>\n",
       "      <td>0</td>\n",
       "      <td>137</td>\n",
       "      <td>40</td>\n",
       "      <td>35</td>\n",
       "      <td>168</td>\n",
       "      <td>43.1</td>\n",
       "      <td>2.288</td>\n",
       "      <td>33</td>\n",
       "      <td>1</td>\n",
       "    </tr>\n",
       "  </tbody>\n",
       "</table>\n",
       "</div>"
      ],
      "text/plain": [
       "  Pregnancies Glucose BloodPressure SkinThickness Insulin   BMI  \\\n",
       "0           6     148            72            35       0  33.6   \n",
       "1           1      85            66            29       0  26.6   \n",
       "2           8     183            64             0       0  23.3   \n",
       "3           1      89            66            23      94  28.1   \n",
       "4           0     137            40            35     168  43.1   \n",
       "\n",
       "  DiabetesPedigreeFunction Age Outcome  \n",
       "0                    0.627  50       1  \n",
       "1                    0.351  31       0  \n",
       "2                    0.672  32       1  \n",
       "3                    0.167  21       0  \n",
       "4                    2.288  33       1  "
      ]
     },
     "execution_count": 24,
     "metadata": {},
     "output_type": "execute_result"
    }
   ],
   "source": [
    "df_diabetes_pd.head()"
   ]
  },
  {
   "cell_type": "markdown",
   "id": "e53c3d37-6d69-46d5-991b-0a19e4063765",
   "metadata": {},
   "source": [
    "## 5. Manipulating DataFrame"
   ]
  },
  {
   "cell_type": "code",
   "execution_count": 25,
   "id": "c5c0cd92-051d-44ec-ae6a-476c03789d6a",
   "metadata": {},
   "outputs": [
    {
     "name": "stdout",
     "output_type": "stream",
     "text": [
      "+-----------+-------+-------------+-------------+-------+----+------------------------+---+-------+\n",
      "|Pregnancies|Glucose|BloodPressure|SkinThickness|Insulin| BMI|DiabetesPedigreeFunction|Age|Outcome|\n",
      "+-----------+-------+-------------+-------------+-------+----+------------------------+---+-------+\n",
      "|          6|    148|           72|           35|      0|33.6|                   0.627| 50|      1|\n",
      "|          1|     85|           66|           29|      0|26.6|                   0.351| 31|      0|\n",
      "|          8|    183|           64|            0|      0|23.3|                   0.672| 32|      1|\n",
      "|          1|     89|           66|           23|     94|28.1|                   0.167| 21|      0|\n",
      "|          0|    137|           40|           35|    168|43.1|                   2.288| 33|      1|\n",
      "+-----------+-------+-------------+-------------+-------+----+------------------------+---+-------+\n",
      "only showing top 5 rows\n",
      "\n"
     ]
    }
   ],
   "source": [
    "df_diabetes.show(5)"
   ]
  },
  {
   "cell_type": "code",
   "execution_count": 26,
   "id": "08324c77-6ccb-49a5-a85d-7be74e1990a8",
   "metadata": {},
   "outputs": [
    {
     "data": {
      "text/plain": [
       "pyspark.sql.dataframe.DataFrame"
      ]
     },
     "execution_count": 26,
     "metadata": {},
     "output_type": "execute_result"
    }
   ],
   "source": [
    "type(df_diabetes)"
   ]
  },
  {
   "cell_type": "markdown",
   "id": "31ec452c-4455-460b-94ea-f432d7aee219",
   "metadata": {},
   "source": [
    "### 5.1. Adding columns into the Dataframe"
   ]
  },
  {
   "cell_type": "code",
   "execution_count": 27,
   "id": "18e37e57-e00d-4f60-8644-8085a6b5a14b",
   "metadata": {},
   "outputs": [],
   "source": [
    "df_diabetes = df_diabetes.withColumn(\"Age in days\", df_diabetes.Age*365)"
   ]
  },
  {
   "cell_type": "code",
   "execution_count": 28,
   "id": "4ea2db6f-d86d-44ed-9338-41886c5c835e",
   "metadata": {},
   "outputs": [],
   "source": [
    "df_diabetes = df_diabetes.withColumn(\"Age in days II\", col(\"Age\")*365)"
   ]
  },
  {
   "cell_type": "code",
   "execution_count": 29,
   "id": "f47095e1-638f-4486-b585-5438b8c74cef",
   "metadata": {},
   "outputs": [
    {
     "name": "stdout",
     "output_type": "stream",
     "text": [
      "+-----------+-------+-------------+-------------+-------+----+------------------------+---+-------+-----------+--------------+\n",
      "|Pregnancies|Glucose|BloodPressure|SkinThickness|Insulin| BMI|DiabetesPedigreeFunction|Age|Outcome|Age in days|Age in days II|\n",
      "+-----------+-------+-------------+-------------+-------+----+------------------------+---+-------+-----------+--------------+\n",
      "|          6|    148|           72|           35|      0|33.6|                   0.627| 50|      1|    18250.0|       18250.0|\n",
      "|          1|     85|           66|           29|      0|26.6|                   0.351| 31|      0|    11315.0|       11315.0|\n",
      "|          8|    183|           64|            0|      0|23.3|                   0.672| 32|      1|    11680.0|       11680.0|\n",
      "|          1|     89|           66|           23|     94|28.1|                   0.167| 21|      0|     7665.0|        7665.0|\n",
      "|          0|    137|           40|           35|    168|43.1|                   2.288| 33|      1|    12045.0|       12045.0|\n",
      "+-----------+-------+-------------+-------------+-------+----+------------------------+---+-------+-----------+--------------+\n",
      "only showing top 5 rows\n",
      "\n"
     ]
    }
   ],
   "source": [
    "df_diabetes.show(5)"
   ]
  },
  {
   "cell_type": "markdown",
   "id": "ef6233e6-3491-45cf-9c2d-cfcbe78ca5d4",
   "metadata": {},
   "source": [
    "#### 5.1.1. Rename column Name"
   ]
  },
  {
   "cell_type": "code",
   "execution_count": 30,
   "id": "a2fab8bb-8769-4e40-8d65-9fcffa669fe5",
   "metadata": {},
   "outputs": [],
   "source": [
    "df_diabetes = df_diabetes.withColumnRenamed(\"Age in days II\", \"Age II\")"
   ]
  },
  {
   "cell_type": "code",
   "execution_count": 31,
   "id": "ceadf0cc-af18-4ab4-b3f0-030c02c826b4",
   "metadata": {},
   "outputs": [
    {
     "name": "stdout",
     "output_type": "stream",
     "text": [
      "+-----------+-------+-------------+-------------+-------+----+------------------------+---+-------+-----------+-------+\n",
      "|Pregnancies|Glucose|BloodPressure|SkinThickness|Insulin| BMI|DiabetesPedigreeFunction|Age|Outcome|Age in days| Age II|\n",
      "+-----------+-------+-------------+-------------+-------+----+------------------------+---+-------+-----------+-------+\n",
      "|          6|    148|           72|           35|      0|33.6|                   0.627| 50|      1|    18250.0|18250.0|\n",
      "|          1|     85|           66|           29|      0|26.6|                   0.351| 31|      0|    11315.0|11315.0|\n",
      "|          8|    183|           64|            0|      0|23.3|                   0.672| 32|      1|    11680.0|11680.0|\n",
      "|          1|     89|           66|           23|     94|28.1|                   0.167| 21|      0|     7665.0| 7665.0|\n",
      "|          0|    137|           40|           35|    168|43.1|                   2.288| 33|      1|    12045.0|12045.0|\n",
      "+-----------+-------+-------------+-------------+-------+----+------------------------+---+-------+-----------+-------+\n",
      "only showing top 5 rows\n",
      "\n"
     ]
    }
   ],
   "source": [
    "df_diabetes.show(5)"
   ]
  },
  {
   "cell_type": "markdown",
   "id": "c6fe6cfc-1839-4af3-bc2a-1b02176a0fec",
   "metadata": {},
   "source": [
    "### 5.2. Casting  a column"
   ]
  },
  {
   "cell_type": "markdown",
   "id": "60e01cbf-f051-40f4-922f-612cdbf0fce0",
   "metadata": {},
   "source": [
    "Let's cast the age columns in days from float to int"
   ]
  },
  {
   "cell_type": "code",
   "execution_count": 32,
   "id": "5dc5827a-9b9a-4ca7-829b-6f186b3329c8",
   "metadata": {},
   "outputs": [
    {
     "name": "stdout",
     "output_type": "stream",
     "text": [
      "+-----------+-------+-------------+-------------+-------+----+------------------------+---+-------+-----------+-------+\n",
      "|Pregnancies|Glucose|BloodPressure|SkinThickness|Insulin| BMI|DiabetesPedigreeFunction|Age|Outcome|Age in days| Age II|\n",
      "+-----------+-------+-------------+-------------+-------+----+------------------------+---+-------+-----------+-------+\n",
      "|          6|    148|           72|           35|      0|33.6|                   0.627| 50|      1|    18250.0|18250.0|\n",
      "|          1|     85|           66|           29|      0|26.6|                   0.351| 31|      0|    11315.0|11315.0|\n",
      "|          8|    183|           64|            0|      0|23.3|                   0.672| 32|      1|    11680.0|11680.0|\n",
      "|          1|     89|           66|           23|     94|28.1|                   0.167| 21|      0|     7665.0| 7665.0|\n",
      "|          0|    137|           40|           35|    168|43.1|                   2.288| 33|      1|    12045.0|12045.0|\n",
      "+-----------+-------+-------------+-------------+-------+----+------------------------+---+-------+-----------+-------+\n",
      "only showing top 5 rows\n",
      "\n"
     ]
    }
   ],
   "source": [
    "df_diabetes.show(5)"
   ]
  },
  {
   "cell_type": "code",
   "execution_count": 33,
   "id": "aaaa9226-ba02-482d-a378-e511c0053bb4",
   "metadata": {},
   "outputs": [],
   "source": [
    "df_diabetes = df_diabetes.withColumn(\"Age II\", col(\"Age II\").cast(\"Integer\"))"
   ]
  },
  {
   "cell_type": "code",
   "execution_count": 34,
   "id": "82ad98b1-27f6-4a52-9c7e-28b45492d5aa",
   "metadata": {},
   "outputs": [
    {
     "name": "stdout",
     "output_type": "stream",
     "text": [
      "+-----------+-------+-------------+-------------+-------+----+------------------------+---+-------+-----------+------+\n",
      "|Pregnancies|Glucose|BloodPressure|SkinThickness|Insulin| BMI|DiabetesPedigreeFunction|Age|Outcome|Age in days|Age II|\n",
      "+-----------+-------+-------------+-------------+-------+----+------------------------+---+-------+-----------+------+\n",
      "|          6|    148|           72|           35|      0|33.6|                   0.627| 50|      1|    18250.0| 18250|\n",
      "|          1|     85|           66|           29|      0|26.6|                   0.351| 31|      0|    11315.0| 11315|\n",
      "|          8|    183|           64|            0|      0|23.3|                   0.672| 32|      1|    11680.0| 11680|\n",
      "|          1|     89|           66|           23|     94|28.1|                   0.167| 21|      0|     7665.0|  7665|\n",
      "|          0|    137|           40|           35|    168|43.1|                   2.288| 33|      1|    12045.0| 12045|\n",
      "+-----------+-------+-------------+-------------+-------+----+------------------------+---+-------+-----------+------+\n",
      "only showing top 5 rows\n",
      "\n"
     ]
    }
   ],
   "source": [
    "df_diabetes.show(5)"
   ]
  },
  {
   "cell_type": "code",
   "execution_count": 35,
   "id": "bd44fbe2-d21d-4c3b-be61-653397baaff8",
   "metadata": {},
   "outputs": [
    {
     "name": "stdout",
     "output_type": "stream",
     "text": [
      "root\n",
      " |-- Pregnancies: string (nullable = true)\n",
      " |-- Glucose: string (nullable = true)\n",
      " |-- BloodPressure: string (nullable = true)\n",
      " |-- SkinThickness: string (nullable = true)\n",
      " |-- Insulin: string (nullable = true)\n",
      " |-- BMI: string (nullable = true)\n",
      " |-- DiabetesPedigreeFunction: string (nullable = true)\n",
      " |-- Age: string (nullable = true)\n",
      " |-- Outcome: string (nullable = true)\n",
      " |-- Age in days: double (nullable = true)\n",
      " |-- Age II: integer (nullable = true)\n",
      "\n"
     ]
    }
   ],
   "source": [
    "df_diabetes.printSchema()"
   ]
  },
  {
   "cell_type": "markdown",
   "id": "acd465e1-f597-4eed-8ef1-5fd5959a4f2a",
   "metadata": {},
   "source": [
    "### 5.3. Selecting data with select and getItem"
   ]
  },
  {
   "cell_type": "code",
   "execution_count": 36,
   "id": "950b231a-27e5-4205-aed9-0f8ac2e8c06b",
   "metadata": {},
   "outputs": [],
   "source": [
    "df_temp = spark.createDataFrame([([1, 2], {\"key\": \"value\"})], [\"l\", \"d\"])"
   ]
  },
  {
   "cell_type": "code",
   "execution_count": 37,
   "id": "0e460485-e342-4b44-a7c8-bb51d00d9fd9",
   "metadata": {},
   "outputs": [
    {
     "name": "stdout",
     "output_type": "stream",
     "text": [
      "+------+--------------+\n",
      "|     l|             d|\n",
      "+------+--------------+\n",
      "|[1, 2]|{key -> value}|\n",
      "+------+--------------+\n",
      "\n"
     ]
    }
   ],
   "source": [
    "df_temp.show()"
   ]
  },
  {
   "cell_type": "code",
   "execution_count": 38,
   "id": "8c469327-6d82-4b5b-9f97-4987bc08901a",
   "metadata": {},
   "outputs": [
    {
     "name": "stdout",
     "output_type": "stream",
     "text": [
      "+----+------+\n",
      "|l[0]|d[key]|\n",
      "+----+------+\n",
      "|   1| value|\n",
      "+----+------+\n",
      "\n"
     ]
    }
   ],
   "source": [
    "df_temp.select(df_temp.l.getItem(0), df_temp.d.getItem(\"key\")).show()"
   ]
  },
  {
   "cell_type": "code",
   "execution_count": 39,
   "id": "9615c54c-b7f8-4b1b-9d76-99b159f23139",
   "metadata": {},
   "outputs": [],
   "source": [
    "df_temp = spark.createDataFrame([\n",
    "                ([1, 2], {\"key\": \"value\"}),\n",
    "                ([3, 4, 5], {\"name\": \"math\"})\n",
    "            ], [\"l\", \"d\"])"
   ]
  },
  {
   "cell_type": "code",
   "execution_count": 40,
   "id": "1b5c6e19-114d-4f27-b75d-6672329cbeac",
   "metadata": {},
   "outputs": [
    {
     "name": "stdout",
     "output_type": "stream",
     "text": [
      "+---------+--------------+\n",
      "|        l|             d|\n",
      "+---------+--------------+\n",
      "|   [1, 2]|{key -> value}|\n",
      "|[3, 4, 5]|{name -> math}|\n",
      "+---------+--------------+\n",
      "\n"
     ]
    }
   ],
   "source": [
    "df_temp.show()"
   ]
  },
  {
   "cell_type": "code",
   "execution_count": 41,
   "id": "1bae71db-41c8-4f02-a3c1-1586d491e991",
   "metadata": {},
   "outputs": [
    {
     "name": "stdout",
     "output_type": "stream",
     "text": [
      "+----+------+\n",
      "|l[0]|d[key]|\n",
      "+----+------+\n",
      "|   1| value|\n",
      "|   3|  null|\n",
      "+----+------+\n",
      "\n"
     ]
    }
   ],
   "source": [
    "df_temp.select(df_temp.l.getItem(0), df_temp.d.getItem(\"key\")).show()"
   ]
  },
  {
   "cell_type": "code",
   "execution_count": 42,
   "id": "c719a6f2-eca8-47d6-a529-11f2953600d5",
   "metadata": {},
   "outputs": [
    {
     "name": "stdout",
     "output_type": "stream",
     "text": [
      "+----+-------+\n",
      "|l[2]|d[name]|\n",
      "+----+-------+\n",
      "|null|   null|\n",
      "|   5|   math|\n",
      "+----+-------+\n",
      "\n"
     ]
    }
   ],
   "source": [
    "df_temp.select(df_temp.l.getItem(2), df_temp.d.getItem(\"name\")).show()"
   ]
  },
  {
   "cell_type": "markdown",
   "id": "7bcda4f4-1045-41b3-b8d3-3aa072e50932",
   "metadata": {},
   "source": [
    "### 5.4. Adding a constant value through lit()"
   ]
  },
  {
   "cell_type": "code",
   "execution_count": 43,
   "id": "f2402482-7a3d-4f80-ba27-b8c84e6f71b2",
   "metadata": {},
   "outputs": [
    {
     "data": {
      "text/plain": [
       "DataFrame[Pregnancies: string, Glucose: string, BloodPressure: string, SkinThickness: string, Insulin: string, BMI: string, DiabetesPedigreeFunction: string, Age: string, Outcome: string, Age in days: double, Age II: int, Patient country: string]"
      ]
     },
     "execution_count": 43,
     "metadata": {},
     "output_type": "execute_result"
    }
   ],
   "source": [
    "df_diabetes.withColumn(\"Patient country\", lit(\"France\"))"
   ]
  },
  {
   "cell_type": "code",
   "execution_count": 44,
   "id": "21e332ad-caa0-48e6-b397-b51d13a4dfb0",
   "metadata": {},
   "outputs": [
    {
     "name": "stdout",
     "output_type": "stream",
     "text": [
      "+-----------+-------+-------------+-------------+-------+----+------------------------+---+-------+-----------+------+\n",
      "|Pregnancies|Glucose|BloodPressure|SkinThickness|Insulin| BMI|DiabetesPedigreeFunction|Age|Outcome|Age in days|Age II|\n",
      "+-----------+-------+-------------+-------------+-------+----+------------------------+---+-------+-----------+------+\n",
      "|          6|    148|           72|           35|      0|33.6|                   0.627| 50|      1|    18250.0| 18250|\n",
      "|          1|     85|           66|           29|      0|26.6|                   0.351| 31|      0|    11315.0| 11315|\n",
      "|          8|    183|           64|            0|      0|23.3|                   0.672| 32|      1|    11680.0| 11680|\n",
      "|          1|     89|           66|           23|     94|28.1|                   0.167| 21|      0|     7665.0|  7665|\n",
      "|          0|    137|           40|           35|    168|43.1|                   2.288| 33|      1|    12045.0| 12045|\n",
      "+-----------+-------+-------------+-------------+-------+----+------------------------+---+-------+-----------+------+\n",
      "only showing top 5 rows\n",
      "\n"
     ]
    }
   ],
   "source": [
    "df_diabetes.show(5)"
   ]
  },
  {
   "cell_type": "code",
   "execution_count": 45,
   "id": "3f80af19-2037-42cc-a451-75f55d966dec",
   "metadata": {},
   "outputs": [],
   "source": [
    "df_diabetes = df_diabetes.withColumn(\"Patient country\", lit(\"France\"))"
   ]
  },
  {
   "cell_type": "code",
   "execution_count": 46,
   "id": "9cdb07e5-0096-496d-9404-badd102220b0",
   "metadata": {},
   "outputs": [
    {
     "name": "stdout",
     "output_type": "stream",
     "text": [
      "+-----------+-------+-------------+-------------+-------+----+------------------------+---+-------+-----------+------+---------------+\n",
      "|Pregnancies|Glucose|BloodPressure|SkinThickness|Insulin| BMI|DiabetesPedigreeFunction|Age|Outcome|Age in days|Age II|Patient country|\n",
      "+-----------+-------+-------------+-------------+-------+----+------------------------+---+-------+-----------+------+---------------+\n",
      "|          6|    148|           72|           35|      0|33.6|                   0.627| 50|      1|    18250.0| 18250|         France|\n",
      "|          1|     85|           66|           29|      0|26.6|                   0.351| 31|      0|    11315.0| 11315|         France|\n",
      "|          8|    183|           64|            0|      0|23.3|                   0.672| 32|      1|    11680.0| 11680|         France|\n",
      "|          1|     89|           66|           23|     94|28.1|                   0.167| 21|      0|     7665.0|  7665|         France|\n",
      "|          0|    137|           40|           35|    168|43.1|                   2.288| 33|      1|    12045.0| 12045|         France|\n",
      "+-----------+-------+-------------+-------------+-------+----+------------------------+---+-------+-----------+------+---------------+\n",
      "only showing top 5 rows\n",
      "\n"
     ]
    }
   ],
   "source": [
    "df_diabetes.show(5)"
   ]
  },
  {
   "cell_type": "markdown",
   "id": "e345259c-e6e1-4b58-8544-15b6dd37e444",
   "metadata": {},
   "source": [
    "#### 5.4.1. Going beyond with __**lit()**__ and using __**when()**__"
   ]
  },
  {
   "cell_type": "markdown",
   "id": "3d92470a-9894-482d-b2cd-ae270c0553ff",
   "metadata": {},
   "source": [
    "In this case, we are going to same that if the patient is under 30 the patient is from South America, otherwise, the patient is from Europe.\n",
    "\n",
    "To do that, we are going to use **when**"
   ]
  },
  {
   "cell_type": "code",
   "execution_count": 47,
   "id": "0b651270-87b0-4dfe-a889-6a88adf1585a",
   "metadata": {},
   "outputs": [],
   "source": [
    "df_diabetes = df_diabetes.withColumn(\"Patient continent\", when(col(\"Age\")<30, lit(\"South America\")).otherwise(lit(\"Europe\")))"
   ]
  },
  {
   "cell_type": "code",
   "execution_count": 48,
   "id": "94fd34fa-71e0-4c59-b4a1-9d6b9861f7fc",
   "metadata": {},
   "outputs": [
    {
     "name": "stdout",
     "output_type": "stream",
     "text": [
      "+-----------+-------+-------------+-------------+-------+----+------------------------+---+-------+-----------+------+---------------+-----------------+\n",
      "|Pregnancies|Glucose|BloodPressure|SkinThickness|Insulin| BMI|DiabetesPedigreeFunction|Age|Outcome|Age in days|Age II|Patient country|Patient continent|\n",
      "+-----------+-------+-------------+-------------+-------+----+------------------------+---+-------+-----------+------+---------------+-----------------+\n",
      "|          6|    148|           72|           35|      0|33.6|                   0.627| 50|      1|    18250.0| 18250|         France|           Europe|\n",
      "|          1|     85|           66|           29|      0|26.6|                   0.351| 31|      0|    11315.0| 11315|         France|           Europe|\n",
      "|          8|    183|           64|            0|      0|23.3|                   0.672| 32|      1|    11680.0| 11680|         France|           Europe|\n",
      "|          1|     89|           66|           23|     94|28.1|                   0.167| 21|      0|     7665.0|  7665|         France|    South America|\n",
      "|          0|    137|           40|           35|    168|43.1|                   2.288| 33|      1|    12045.0| 12045|         France|           Europe|\n",
      "+-----------+-------+-------------+-------------+-------+----+------------------------+---+-------+-----------+------+---------------+-----------------+\n",
      "only showing top 5 rows\n",
      "\n"
     ]
    }
   ],
   "source": [
    "df_diabetes.show(5)"
   ]
  },
  {
   "cell_type": "markdown",
   "id": "8fc3d23a-8d05-4190-8a62-b319162aa509",
   "metadata": {},
   "source": [
    "### 5.5. Drop column"
   ]
  },
  {
   "cell_type": "code",
   "execution_count": 49,
   "id": "9e68d4bd-6da6-44f9-9f1b-e2c4727e67a2",
   "metadata": {},
   "outputs": [],
   "source": [
    "df_diabetes = df_diabetes.drop(\"Patient country\")"
   ]
  },
  {
   "cell_type": "code",
   "execution_count": 50,
   "id": "bb922410-fed9-4c8f-9ef6-98156397b6cf",
   "metadata": {},
   "outputs": [
    {
     "name": "stdout",
     "output_type": "stream",
     "text": [
      "+-----------+-------+-------------+-------------+-------+----+------------------------+---+-------+-----------+------+-----------------+\n",
      "|Pregnancies|Glucose|BloodPressure|SkinThickness|Insulin| BMI|DiabetesPedigreeFunction|Age|Outcome|Age in days|Age II|Patient continent|\n",
      "+-----------+-------+-------------+-------------+-------+----+------------------------+---+-------+-----------+------+-----------------+\n",
      "|          6|    148|           72|           35|      0|33.6|                   0.627| 50|      1|    18250.0| 18250|           Europe|\n",
      "|          1|     85|           66|           29|      0|26.6|                   0.351| 31|      0|    11315.0| 11315|           Europe|\n",
      "|          8|    183|           64|            0|      0|23.3|                   0.672| 32|      1|    11680.0| 11680|           Europe|\n",
      "|          1|     89|           66|           23|     94|28.1|                   0.167| 21|      0|     7665.0|  7665|    South America|\n",
      "|          0|    137|           40|           35|    168|43.1|                   2.288| 33|      1|    12045.0| 12045|           Europe|\n",
      "+-----------+-------+-------------+-------------+-------+----+------------------------+---+-------+-----------+------+-----------------+\n",
      "only showing top 5 rows\n",
      "\n"
     ]
    }
   ],
   "source": [
    "df_diabetes.show(5)"
   ]
  },
  {
   "cell_type": "markdown",
   "id": "8427bb5d-f241-4d99-9323-d328165ed9e1",
   "metadata": {},
   "source": [
    "### 5.6. Selecting columns based on conditions"
   ]
  },
  {
   "cell_type": "code",
   "execution_count": 51,
   "id": "4f5b7352-7c04-4a6f-a707-e5c3340b0b50",
   "metadata": {},
   "outputs": [
    {
     "name": "stdout",
     "output_type": "stream",
     "text": [
      "+-------+-------------+---+\n",
      "|Glucose|BloodPressure|Age|\n",
      "+-------+-------------+---+\n",
      "|     85|           66| 31|\n",
      "|    183|           64| 32|\n",
      "|    137|           40| 33|\n",
      "|    168|           74| 34|\n",
      "|    100|            0| 32|\n",
      "+-------+-------------+---+\n",
      "only showing top 5 rows\n",
      "\n"
     ]
    }
   ],
   "source": [
    "df_diabetes.select(col(\"Glucose\"), col(\"BloodPressure\"), col(\"Age\"))\\\n",
    "            .filter((col(\"Age\")>30) & (col(\"Age\")<35))\\\n",
    "            .show(5)"
   ]
  },
  {
   "cell_type": "markdown",
   "id": "d097fbe1-f761-494e-9b3b-d75208e9eac8",
   "metadata": {},
   "source": [
    "#### 5.6.1. Selecting columns based on conditions using alias"
   ]
  },
  {
   "cell_type": "code",
   "execution_count": 52,
   "id": "e0278b29-486a-430f-b637-9641d88cfd53",
   "metadata": {},
   "outputs": [
    {
     "name": "stdout",
     "output_type": "stream",
     "text": [
      "+-------+-------------+---+\n",
      "|Glucose|Blood_presure|Age|\n",
      "+-------+-------------+---+\n",
      "|    118|           84| 31|\n",
      "|    100|           88| 31|\n",
      "|    123|           80| 34|\n",
      "|    122|           90| 31|\n",
      "|    131|           88| 32|\n",
      "+-------+-------------+---+\n",
      "only showing top 5 rows\n",
      "\n"
     ]
    }
   ],
   "source": [
    "df_diabetes.select(col(\"Glucose\"), col(\"BloodPressure\").alias(\"Blood_presure\"), col(\"Age\"))\\\n",
    "            .filter((col(\"Age\")>30) & (col(\"Age\")<35) & (col(\"Blood_presure\")>74))\\\n",
    "            .show(5)"
   ]
  },
  {
   "cell_type": "markdown",
   "id": "129537ee-f9b6-4645-aab1-06d50035abb1",
   "metadata": {},
   "source": [
    "#### 5.6.2. Selecting value from a specific cel"
   ]
  },
  {
   "cell_type": "code",
   "execution_count": 53,
   "id": "120b14db-6354-4675-8e90-c8b357ca66d3",
   "metadata": {},
   "outputs": [
    {
     "name": "stdout",
     "output_type": "stream",
     "text": [
      "+-----------+-------+-------------+-------------+-------+----+------------------------+---+-------+-----------+------+-----------------+\n",
      "|Pregnancies|Glucose|BloodPressure|SkinThickness|Insulin| BMI|DiabetesPedigreeFunction|Age|Outcome|Age in days|Age II|Patient continent|\n",
      "+-----------+-------+-------------+-------------+-------+----+------------------------+---+-------+-----------+------+-----------------+\n",
      "|          6|    148|           72|           35|      0|33.6|                   0.627| 50|      1|    18250.0| 18250|           Europe|\n",
      "|          1|     85|           66|           29|      0|26.6|                   0.351| 31|      0|    11315.0| 11315|           Europe|\n",
      "|          8|    183|           64|            0|      0|23.3|                   0.672| 32|      1|    11680.0| 11680|           Europe|\n",
      "|          1|     89|           66|           23|     94|28.1|                   0.167| 21|      0|     7665.0|  7665|    South America|\n",
      "|          0|    137|           40|           35|    168|43.1|                   2.288| 33|      1|    12045.0| 12045|           Europe|\n",
      "+-----------+-------+-------------+-------------+-------+----+------------------------+---+-------+-----------+------+-----------------+\n",
      "only showing top 5 rows\n",
      "\n"
     ]
    }
   ],
   "source": [
    "df_diabetes.show(5)"
   ]
  },
  {
   "cell_type": "markdown",
   "id": "e780eff3-b27e-4439-96af-e95819d1c518",
   "metadata": {},
   "source": [
    "### 5.7. Groupby"
   ]
  },
  {
   "cell_type": "code",
   "execution_count": 54,
   "id": "e260b21a-257d-4a50-b640-32ea29c0467f",
   "metadata": {},
   "outputs": [
    {
     "name": "stdout",
     "output_type": "stream",
     "text": [
      "+-----------------+-----+\n",
      "|Patient continent|count|\n",
      "+-----------------+-----+\n",
      "|           Europe|  372|\n",
      "|    South America|  396|\n",
      "+-----------------+-----+\n",
      "\n"
     ]
    }
   ],
   "source": [
    "df_diabetes.groupBy(\"Patient continent\")\\\n",
    "            .count()\\\n",
    "            .show()"
   ]
  },
  {
   "cell_type": "code",
   "execution_count": 55,
   "id": "fe00cd9a-210f-40eb-bfc3-1c18f1549c5b",
   "metadata": {},
   "outputs": [
    {
     "name": "stdout",
     "output_type": "stream",
     "text": [
      "+-----------------+-------+-----+\n",
      "|Patient continent|Outcome|count|\n",
      "+-----------------+-------+-----+\n",
      "|           Europe|      0|  188|\n",
      "|           Europe|      1|  184|\n",
      "|    South America|      1|   84|\n",
      "|    South America|      0|  312|\n",
      "+-----------------+-------+-----+\n",
      "\n"
     ]
    }
   ],
   "source": [
    "df_diabetes.groupBy(\"Patient continent\", \"Outcome\")\\\n",
    "            .count()\\\n",
    "            .sort(asc(\"Patient continent\"))\\\n",
    "            .show()"
   ]
  },
  {
   "cell_type": "code",
   "execution_count": 56,
   "id": "de696eff-9ff5-4652-9cf4-35eb5f02bc29",
   "metadata": {},
   "outputs": [
    {
     "name": "stdout",
     "output_type": "stream",
     "text": [
      "+-----------------+-------+-----+\n",
      "|Patient continent|Outcome|count|\n",
      "+-----------------+-------+-----+\n",
      "|    South America|      0|  312|\n",
      "|    South America|      1|   84|\n",
      "|           Europe|      0|  188|\n",
      "|           Europe|      1|  184|\n",
      "+-----------------+-------+-----+\n",
      "\n"
     ]
    }
   ],
   "source": [
    "df_diabetes.groupBy(\"Patient continent\", \"Outcome\")\\\n",
    "            .count()\\\n",
    "            .sort(desc(\"Patient continent\"), asc(\"Outcome\"))\\\n",
    "            .show()"
   ]
  },
  {
   "cell_type": "code",
   "execution_count": 57,
   "id": "b872de03-530e-496e-b536-402a266065ea",
   "metadata": {},
   "outputs": [
    {
     "name": "stdout",
     "output_type": "stream",
     "text": [
      "+-----------------+---+-----+\n",
      "|Patient continent|Age|count|\n",
      "+-----------------+---+-----+\n",
      "|           Europe| 46|   13|\n",
      "|           Europe| 66|    4|\n",
      "|           Europe| 37|   19|\n",
      "|           Europe| 65|    3|\n",
      "|           Europe| 60|    5|\n",
      "|    South America| 27|   32|\n",
      "|           Europe| 62|    4|\n",
      "|    South America| 28|   35|\n",
      "|           Europe| 41|   22|\n",
      "|           Europe| 58|    7|\n",
      "|           Europe| 45|   15|\n",
      "|           Europe| 72|    1|\n",
      "|           Europe| 42|   18|\n",
      "|    South America| 25|   48|\n",
      "|           Europe| 38|   16|\n",
      "|           Europe| 48|    5|\n",
      "|           Europe| 44|    8|\n",
      "|           Europe| 47|    6|\n",
      "|           Europe| 68|    1|\n",
      "|           Europe| 49|    5|\n",
      "+-----------------+---+-----+\n",
      "only showing top 20 rows\n",
      "\n"
     ]
    }
   ],
   "source": [
    "df_diabetes.groupBy(\"Patient continent\", \"Age\")\\\n",
    "            .count()\\\n",
    "            .show()"
   ]
  },
  {
   "cell_type": "code",
   "execution_count": 58,
   "id": "5e9af821-197f-4584-adc2-c6c8e468c3c4",
   "metadata": {},
   "outputs": [
    {
     "name": "stdout",
     "output_type": "stream",
     "text": [
      "root\n",
      " |-- Pregnancies: string (nullable = true)\n",
      " |-- Glucose: string (nullable = true)\n",
      " |-- BloodPressure: string (nullable = true)\n",
      " |-- SkinThickness: string (nullable = true)\n",
      " |-- Insulin: string (nullable = true)\n",
      " |-- BMI: string (nullable = true)\n",
      " |-- DiabetesPedigreeFunction: string (nullable = true)\n",
      " |-- Age: string (nullable = true)\n",
      " |-- Outcome: string (nullable = true)\n",
      " |-- Age in days: double (nullable = true)\n",
      " |-- Age II: integer (nullable = true)\n",
      " |-- Patient continent: string (nullable = false)\n",
      "\n"
     ]
    }
   ],
   "source": [
    "df_diabetes.printSchema()"
   ]
  },
  {
   "cell_type": "code",
   "execution_count": 59,
   "id": "36a3a57e-57a8-4d46-a7e7-372bc0d8201b",
   "metadata": {},
   "outputs": [],
   "source": [
    "df_diabetes = df_diabetes.withColumn(\"Age\", col(\"Age\").cast(\"Integer\"))"
   ]
  },
  {
   "cell_type": "code",
   "execution_count": 60,
   "id": "8d1169c0-a114-473e-a990-d07b0feed511",
   "metadata": {},
   "outputs": [
    {
     "name": "stdout",
     "output_type": "stream",
     "text": [
      "+-----------+-------+-------------+-------------+-------+----+------------------------+---+-------+-----------+------+-----------------+\n",
      "|Pregnancies|Glucose|BloodPressure|SkinThickness|Insulin| BMI|DiabetesPedigreeFunction|Age|Outcome|Age in days|Age II|Patient continent|\n",
      "+-----------+-------+-------------+-------------+-------+----+------------------------+---+-------+-----------+------+-----------------+\n",
      "|          6|    148|           72|           35|      0|33.6|                   0.627| 50|      1|    18250.0| 18250|           Europe|\n",
      "|          1|     85|           66|           29|      0|26.6|                   0.351| 31|      0|    11315.0| 11315|           Europe|\n",
      "|          8|    183|           64|            0|      0|23.3|                   0.672| 32|      1|    11680.0| 11680|           Europe|\n",
      "|          1|     89|           66|           23|     94|28.1|                   0.167| 21|      0|     7665.0|  7665|    South America|\n",
      "|          0|    137|           40|           35|    168|43.1|                   2.288| 33|      1|    12045.0| 12045|           Europe|\n",
      "+-----------+-------+-------------+-------------+-------+----+------------------------+---+-------+-----------+------+-----------------+\n",
      "only showing top 5 rows\n",
      "\n"
     ]
    }
   ],
   "source": [
    "df_diabetes.show(5)"
   ]
  },
  {
   "cell_type": "markdown",
   "id": "67f89966-6c75-4ddc-9961-6719d660bc30",
   "metadata": {
    "tags": []
   },
   "source": [
    "#### 5.7.1. Avg per group"
   ]
  },
  {
   "cell_type": "code",
   "execution_count": 61,
   "id": "e72f94c4-4862-4b28-afbd-ed9f5fe27a56",
   "metadata": {},
   "outputs": [
    {
     "name": "stdout",
     "output_type": "stream",
     "text": [
      "+-----------------+-------+\n",
      "|Patient continent|Avg Age|\n",
      "+-----------------+-------+\n",
      "|           Europe|  42.74|\n",
      "|    South America|  24.31|\n",
      "+-----------------+-------+\n",
      "\n",
      "CPU times: user 494 µs, sys: 10.5 ms, total: 11 ms\n",
      "Wall time: 221 ms\n"
     ]
    }
   ],
   "source": [
    "%%time\n",
    "\n",
    "df_diabetes.groupBy(\"Patient continent\")\\\n",
    "            .avg(\"Age\").select(col(\"Patient continent\"), round(col(\"avg(Age)\"), 2).alias(\"Avg Age\"))\\\n",
    "            .show()"
   ]
  },
  {
   "cell_type": "code",
   "execution_count": 62,
   "id": "44e262ba-21c0-4782-99b5-0367a88a6584",
   "metadata": {},
   "outputs": [
    {
     "name": "stdout",
     "output_type": "stream",
     "text": [
      "+-----------------+-------+\n",
      "|Patient continent|Avg Age|\n",
      "+-----------------+-------+\n",
      "|           Europe|  42.74|\n",
      "|    South America|  24.31|\n",
      "+-----------------+-------+\n",
      "\n",
      "CPU times: user 9.74 ms, sys: 0 ns, total: 9.74 ms\n",
      "Wall time: 131 ms\n"
     ]
    }
   ],
   "source": [
    "%%time\n",
    "\n",
    "df_temp = df_diabetes.groupBy(\"Patient continent\")\\\n",
    "                        .agg({ \"Age\" : \"avg\" })\\\n",
    "                        .select(col(\"Patient continent\"), round(col(\"avg(Age)\"), 2).alias(\"Avg Age\"))\\\n",
    "                        .show()"
   ]
  },
  {
   "cell_type": "code",
   "execution_count": 63,
   "id": "47d6dca1-e2ce-4448-af9a-03531371bda4",
   "metadata": {
    "tags": []
   },
   "outputs": [
    {
     "name": "stdout",
     "output_type": "stream",
     "text": [
      "+-----------------+------------------+\n",
      "|Patient continent|           Avg Age|\n",
      "+-----------------+------------------+\n",
      "|           Europe|42.744623655913976|\n",
      "|    South America| 24.31313131313131|\n",
      "+-----------------+------------------+\n",
      "\n",
      "CPU times: user 6.05 ms, sys: 2.09 ms, total: 8.14 ms\n",
      "Wall time: 144 ms\n"
     ]
    }
   ],
   "source": [
    "%%time\n",
    "\n",
    "df_temp = df_diabetes.groupBy(\"Patient continent\")\\\n",
    "                        .agg({ \"Age\" : \"avg\" })\\\n",
    "                        .withColumnRenamed(\"avg(Age)\", \"Avg Age\")\\\n",
    "                        .show()"
   ]
  },
  {
   "cell_type": "code",
   "execution_count": 64,
   "id": "f16ae66e-f450-4583-8062-2f6378f1f6a6",
   "metadata": {},
   "outputs": [
    {
     "name": "stdout",
     "output_type": "stream",
     "text": [
      "<class 'NoneType'>\n"
     ]
    }
   ],
   "source": [
    "print(type(df_temp))"
   ]
  },
  {
   "cell_type": "markdown",
   "id": "c5ec5473-3296-48a0-bcf4-c0c4bf3a60ea",
   "metadata": {},
   "source": [
    "##### 5.7.1.1. Importing the functions directly or through an alias"
   ]
  },
  {
   "cell_type": "code",
   "execution_count": 65,
   "id": "b8676e27-2a98-4cfe-a582-62d72f8d7633",
   "metadata": {},
   "outputs": [
    {
     "name": "stdout",
     "output_type": "stream",
     "text": [
      "+-----------------+------------------+-------+\n",
      "|Patient continent|           Avg Age|Max Age|\n",
      "+-----------------+------------------+-------+\n",
      "|           Europe|42.744623655913976|     81|\n",
      "|    South America| 24.31313131313131|     29|\n",
      "+-----------------+------------------+-------+\n",
      "\n",
      "CPU times: user 3.94 ms, sys: 2.15 ms, total: 6.09 ms\n",
      "Wall time: 183 ms\n"
     ]
    }
   ],
   "source": [
    "%%time\n",
    "\n",
    "# import pyspark.sql.functions as F\n",
    "\n",
    "df_diabetes.groupBy(\"Patient continent\")\\\n",
    "            .agg(F.avg(\"Age\"), F.max(\"Age\").alias(\"Max Age\"))\\\n",
    "            .withColumnRenamed(\"avg(Age)\", \"Avg Age\")\\\n",
    "            .show()"
   ]
  },
  {
   "cell_type": "code",
   "execution_count": 66,
   "id": "e11ffe42-1bbe-4149-a771-fcd7beb73f4c",
   "metadata": {},
   "outputs": [
    {
     "name": "stdout",
     "output_type": "stream",
     "text": [
      "+-----------------+------------------+-------+\n",
      "|Patient continent|round(avg(Age), 2)|Max Age|\n",
      "+-----------------+------------------+-------+\n",
      "|           Europe|             42.74|     81|\n",
      "|    South America|             24.31|     29|\n",
      "+-----------------+------------------+-------+\n",
      "\n",
      "CPU times: user 8.05 ms, sys: 9.25 ms, total: 17.3 ms\n",
      "Wall time: 146 ms\n"
     ]
    }
   ],
   "source": [
    "%%time\n",
    "\n",
    "from pyspark.sql.functions import sum, avg, max, min, mean, count, round\n",
    "\n",
    "df_diabetes.groupBy(\"Patient continent\")\\\n",
    "            .agg(round(avg(\"Age\"), 2), \n",
    "                 max(\"Age\").alias(\"Max Age\"))\\\n",
    "            .withColumnRenamed(\"avg(Age)\", \"Avg Age\")\\\n",
    "            .show()"
   ]
  },
  {
   "cell_type": "markdown",
   "id": "ecc9262b-483c-4a96-b217-9c411fde29e9",
   "metadata": {},
   "source": [
    "##### 5.7.2.1. Using filter indistinctly"
   ]
  },
  {
   "cell_type": "code",
   "execution_count": 67,
   "id": "cbc7d87e-f9fa-4fb9-8ba1-95bf3a453e0e",
   "metadata": {},
   "outputs": [
    {
     "name": "stdout",
     "output_type": "stream",
     "text": [
      "+-------+-------+\n",
      "|Outcome|Avg Age|\n",
      "+-------+-------+\n",
      "|      0|  32.55|\n",
      "|      1|  32.94|\n",
      "+-------+-------+\n",
      "\n",
      "CPU times: user 13 ms, sys: 150 µs, total: 13.1 ms\n",
      "Wall time: 180 ms\n"
     ]
    }
   ],
   "source": [
    "%%time\n",
    "\n",
    "AGES = [30, 31, 33, 40]\n",
    "\n",
    "df_diabetes\\\n",
    "    .where(col(\"Age\").isin(AGES))\\\n",
    "    .groupby(\"Outcome\")\\\n",
    "    .agg(round(avg(\"Age\"), 2).alias(\"Avg Age\"))\\\n",
    "    .show(5)"
   ]
  },
  {
   "cell_type": "code",
   "execution_count": 68,
   "id": "0c1f6dbb-14e1-4a69-aa21-19bafb333ae7",
   "metadata": {},
   "outputs": [
    {
     "name": "stdout",
     "output_type": "stream",
     "text": [
      "+-------+-------+\n",
      "|Outcome|Avg Age|\n",
      "+-------+-------+\n",
      "|      0|  32.55|\n",
      "|      1|  32.94|\n",
      "+-------+-------+\n",
      "\n",
      "CPU times: user 8.22 ms, sys: 4.46 ms, total: 12.7 ms\n",
      "Wall time: 142 ms\n"
     ]
    }
   ],
   "source": [
    "%%time\n",
    "\n",
    "AGES = [30, 31, 33, 40]\n",
    "\n",
    "df_diabetes\\\n",
    "    .where(col(\"Age\").isin(AGES))\\\n",
    "    .groupby(\"Outcome\")\\\n",
    "    .avg(\"Age\").select(col(\"Outcome\"), round(col(\"avg(Age)\"), 2).alias(\"Avg Age\"))\\\n",
    "    .show(5)"
   ]
  },
  {
   "cell_type": "markdown",
   "id": "2c295dca-c23d-49f3-8371-7ce2672fe18e",
   "metadata": {},
   "source": [
    "### 5.8. Counting null in the dataset"
   ]
  },
  {
   "cell_type": "code",
   "execution_count": 77,
   "id": "34e7b1a7-5277-4d11-abc7-34d7a33294ec",
   "metadata": {},
   "outputs": [
    {
     "name": "stdout",
     "output_type": "stream",
     "text": [
      "+-----------+-------+-------------+-------------+-------+---+------------------------+---+-------+-----------+------+-----------------+\n",
      "|Pregnancies|Glucose|BloodPressure|SkinThickness|Insulin|BMI|DiabetesPedigreeFunction|Age|Outcome|Age in days|Age II|Patient continent|\n",
      "+-----------+-------+-------------+-------------+-------+---+------------------------+---+-------+-----------+------+-----------------+\n",
      "|          0|      0|            0|            0|      0|  0|                       0|  0|      0|          0|     0|                0|\n",
      "+-----------+-------+-------------+-------------+-------+---+------------------------+---+-------+-----------+------+-----------------+\n",
      "\n"
     ]
    }
   ],
   "source": [
    "from pyspark.sql.functions import col,isnan, when, count\n",
    "df_diabetes.select([count(when(isnan(c) | col(c).isNull(), c)).alias(c) for c in df_diabetes.columns]\n",
    "   ).show()"
   ]
  },
  {
   "cell_type": "markdown",
   "id": "781e1b07-be67-4e90-8260-cdee5d85dc45",
   "metadata": {},
   "source": [
    "## 6. Working with UDF"
   ]
  },
  {
   "cell_type": "code",
   "execution_count": 69,
   "id": "761a9ebf-32f1-4b2c-992d-228b086f726c",
   "metadata": {},
   "outputs": [],
   "source": [
    "columns_udf = [\"Seqno\",\"Name\"]\n",
    "data_udf = [(\"1\", \"john jones\"),\n",
    "    (\"2\", \"tracey smith\"),\n",
    "    (\"3\", \"amy sanders\")]"
   ]
  },
  {
   "cell_type": "code",
   "execution_count": 70,
   "id": "65ab1858-f451-4c7e-b537-96bedd88c85c",
   "metadata": {},
   "outputs": [
    {
     "name": "stdout",
     "output_type": "stream",
     "text": [
      "+-----+------------+\n",
      "|Seqno|Name        |\n",
      "+-----+------------+\n",
      "|1    |john jones  |\n",
      "|2    |tracey smith|\n",
      "|3    |amy sanders |\n",
      "+-----+------------+\n",
      "\n"
     ]
    }
   ],
   "source": [
    "df_udf = spark.createDataFrame(data=data_udf, schema=columns_udf)\n",
    "\n",
    "df_udf.show(truncate=False)"
   ]
  },
  {
   "cell_type": "markdown",
   "id": "30dfc5db-b086-4bc1-919b-86ee03de58f4",
   "metadata": {},
   "source": [
    "### 6.1. Using UDF with PySpark DataFrame select()"
   ]
  },
  {
   "cell_type": "code",
   "execution_count": 71,
   "id": "6de34bf4-341d-4c32-94da-791264349ea1",
   "metadata": {},
   "outputs": [],
   "source": [
    "def convertCase(str):\n",
    "    resStr=\"\"\n",
    "    arr = str.split(\" \")\n",
    "    for x in arr:\n",
    "       resStr= resStr + x[0:1].upper() + x[1:len(x)] + \" \"\n",
    "    return resStr "
   ]
  },
  {
   "cell_type": "code",
   "execution_count": 72,
   "id": "52b3940c-a130-4cf7-97e4-16e583cc33c9",
   "metadata": {},
   "outputs": [],
   "source": [
    "\"\"\" Converting function to UDF \"\"\"\n",
    "#convertUDF = udf(lambda z: convertCase(z), StringType())\n",
    "\"\"\" Converting function to UDF \n",
    "StringType() is by default hence not required \"\"\"\n",
    "convertUDF = udf(lambda z: convertCase(z)) "
   ]
  },
  {
   "cell_type": "code",
   "execution_count": 73,
   "id": "686ffda9-9ee2-4a43-8c6b-927cd59f8c44",
   "metadata": {},
   "outputs": [
    {
     "name": "stdout",
     "output_type": "stream",
     "text": [
      "+-----+-------------+\n",
      "|Seqno|Name         |\n",
      "+-----+-------------+\n",
      "|1    |John Jones   |\n",
      "|2    |Tracey Smith |\n",
      "|3    |Amy Sanders  |\n",
      "+-----+-------------+\n",
      "\n"
     ]
    }
   ],
   "source": [
    "df_udf.select(col(\"Seqno\"), \\\n",
    "    convertUDF(col(\"Name\")).alias(\"Name\") ) \\\n",
    "   .show(truncate=False)"
   ]
  },
  {
   "cell_type": "code",
   "execution_count": 75,
   "id": "11b20d95-396b-4b85-811b-df6a97e1c043",
   "metadata": {},
   "outputs": [
    {
     "name": "stdout",
     "output_type": "stream",
     "text": [
      "<class 'pyspark.sql.dataframe.DataFrame'>\n"
     ]
    }
   ],
   "source": [
    "print(type(df_udf))"
   ]
  },
  {
   "cell_type": "markdown",
   "id": "475435d6-3f06-4726-b3fa-02ac00733c95",
   "metadata": {},
   "source": [
    "### 6.2. Using UDF with PySpark DataFrame withColumn()"
   ]
  },
  {
   "cell_type": "code",
   "execution_count": 78,
   "id": "1d41ab7a-e628-4e7b-afa5-aa8a0e1300fb",
   "metadata": {},
   "outputs": [],
   "source": [
    "def upperCase(str):\n",
    "    return str.upper()"
   ]
  },
  {
   "cell_type": "code",
   "execution_count": 79,
   "id": "ee67f827-c29a-4078-9f66-5810006d3326",
   "metadata": {},
   "outputs": [],
   "source": [
    "upperCaseUDF = udf(lambda z:upperCase(z), StringType()) "
   ]
  },
  {
   "cell_type": "code",
   "execution_count": 80,
   "id": "999be3f7-5002-450b-96f1-ed882a1b9c18",
   "metadata": {},
   "outputs": [],
   "source": [
    "df_udf_temp = df_udf.withColumn(\"Cureated Name\", concat(col(\"Name\"), lit(\" hola\")))"
   ]
  },
  {
   "cell_type": "code",
   "execution_count": 81,
   "id": "68464a61-70ba-4f59-aca2-05fef03be694",
   "metadata": {},
   "outputs": [
    {
     "name": "stdout",
     "output_type": "stream",
     "text": [
      "+-----+------------+-----------------+\n",
      "|Seqno|        Name|    Cureated Name|\n",
      "+-----+------------+-----------------+\n",
      "|    1|  john jones|  john jones hola|\n",
      "|    2|tracey smith|tracey smith hola|\n",
      "|    3| amy sanders| amy sanders hola|\n",
      "+-----+------------+-----------------+\n",
      "\n"
     ]
    }
   ],
   "source": [
    "df_udf_temp.show(5)"
   ]
  },
  {
   "cell_type": "code",
   "execution_count": 82,
   "id": "e19e9f82-75fd-4943-8f42-eba058cf851c",
   "metadata": {},
   "outputs": [
    {
     "name": "stdout",
     "output_type": "stream",
     "text": [
      "+-----+----+-------------+\n",
      "|Seqno|Name|Cureated Name|\n",
      "+-----+----+-------------+\n",
      "|    0|   0|            0|\n",
      "+-----+----+-------------+\n",
      "\n"
     ]
    }
   ],
   "source": [
    "from pyspark.sql.functions import col,isnan, when, count\n",
    "df_udf_temp.select([count(when(isnan(c) | col(c).isNull(), c)).alias(c) for c in df_udf_temp.columns]\n",
    "   ).show()"
   ]
  },
  {
   "cell_type": "code",
   "execution_count": 83,
   "id": "b8aae9c3-c8a8-42a3-8aad-a3ba43af1aee",
   "metadata": {},
   "outputs": [
    {
     "name": "stdout",
     "output_type": "stream",
     "text": [
      "<class 'pyspark.sql.dataframe.DataFrame'>\n"
     ]
    }
   ],
   "source": [
    "print(type(df_udf_temp))"
   ]
  },
  {
   "cell_type": "code",
   "execution_count": 84,
   "id": "6692eda0-2719-4803-987d-65bd0f61ec47",
   "metadata": {},
   "outputs": [],
   "source": [
    "df_udf_temp = df_udf_temp.withColumn(\"Cureated Name\", upperCaseUDF(col(\"Name\")))"
   ]
  },
  {
   "cell_type": "code",
   "execution_count": 85,
   "id": "726eca2f-fabf-425a-8939-5268132c74a1",
   "metadata": {},
   "outputs": [
    {
     "name": "stdout",
     "output_type": "stream",
     "text": [
      "+-----+------------+-------------+\n",
      "|Seqno|Name        |Cureated Name|\n",
      "+-----+------------+-------------+\n",
      "|1    |john jones  |JOHN JONES   |\n",
      "|2    |tracey smith|TRACEY SMITH |\n",
      "|3    |amy sanders |AMY SANDERS  |\n",
      "+-----+------------+-------------+\n",
      "\n"
     ]
    }
   ],
   "source": [
    "df_udf_temp.show(truncate=False)"
   ]
  },
  {
   "cell_type": "code",
   "execution_count": 86,
   "id": "83e6c6a3-3f4a-4d06-baea-5361a00bfc24",
   "metadata": {},
   "outputs": [
    {
     "name": "stdout",
     "output_type": "stream",
     "text": [
      "<class 'pyspark.sql.dataframe.DataFrame'>\n"
     ]
    }
   ],
   "source": [
    "print(type(df_udf_temp))"
   ]
  },
  {
   "cell_type": "code",
   "execution_count": 87,
   "id": "66e94d06-5e23-4191-b148-673223cdd23f",
   "metadata": {},
   "outputs": [
    {
     "name": "stdout",
     "output_type": "stream",
     "text": [
      "root\n",
      " |-- Seqno: string (nullable = true)\n",
      " |-- Name: string (nullable = true)\n",
      " |-- Cureated Name: string (nullable = true)\n",
      "\n"
     ]
    }
   ],
   "source": [
    "df_udf_temp.printSchema()"
   ]
  },
  {
   "cell_type": "markdown",
   "id": "27be5935-9578-43c2-b57f-39e14ebf8e87",
   "metadata": {},
   "source": [
    "### 6.3. Creating UDF with annotation"
   ]
  },
  {
   "cell_type": "code",
   "execution_count": 88,
   "id": "dfb192dd-0651-464c-a4c3-1f017e56088f",
   "metadata": {},
   "outputs": [],
   "source": [
    "@udf(returnType=StringType())\n",
    "def lowerCase(str):\n",
    "    return str.lower()"
   ]
  },
  {
   "cell_type": "code",
   "execution_count": 89,
   "id": "75e77d65-c7b4-407e-b10e-650e3d13447a",
   "metadata": {},
   "outputs": [],
   "source": [
    "df_udf_temp = df_udf_temp.withColumn(\"lower Cureated Name\", lowerCase(col(\"Cureated Name\")))"
   ]
  },
  {
   "cell_type": "code",
   "execution_count": 90,
   "id": "b65f2171-a392-4b1f-ae49-f9ad5881adbd",
   "metadata": {},
   "outputs": [
    {
     "name": "stdout",
     "output_type": "stream",
     "text": [
      "+-----+------------+-------------+-------------------+\n",
      "|Seqno|        Name|Cureated Name|lower Cureated Name|\n",
      "+-----+------------+-------------+-------------------+\n",
      "|    1|  john jones|   JOHN JONES|         john jones|\n",
      "|    2|tracey smith| TRACEY SMITH|       tracey smith|\n",
      "|    3| amy sanders|  AMY SANDERS|        amy sanders|\n",
      "+-----+------------+-------------+-------------------+\n",
      "\n"
     ]
    }
   ],
   "source": [
    "df_udf_temp.show()"
   ]
  },
  {
   "cell_type": "code",
   "execution_count": 91,
   "id": "27552c2d-bf22-49a1-ab84-d34ac7037525",
   "metadata": {},
   "outputs": [
    {
     "name": "stdout",
     "output_type": "stream",
     "text": [
      "root\n",
      " |-- Seqno: string (nullable = true)\n",
      " |-- Name: string (nullable = true)\n",
      " |-- Cureated Name: string (nullable = true)\n",
      " |-- lower Cureated Name: string (nullable = true)\n",
      "\n"
     ]
    }
   ],
   "source": [
    "df_udf_temp.printSchema()"
   ]
  },
  {
   "cell_type": "markdown",
   "id": "a26e156f-fec7-4b67-949c-2aef1395ee14",
   "metadata": {},
   "source": [
    "## 7. Working with map()"
   ]
  },
  {
   "cell_type": "code",
   "execution_count": 92,
   "id": "84058e37-2c1a-47f7-9f65-431d8f53d974",
   "metadata": {},
   "outputs": [],
   "source": [
    "data = [('James','Smith','M',30),\n",
    "  ('Anna','Rose','F',41),\n",
    "  ('Robert','Williams','M',62), \n",
    "]"
   ]
  },
  {
   "cell_type": "code",
   "execution_count": 93,
   "id": "3f9a244d-8d55-4ed0-ba92-7f0ec4e91619",
   "metadata": {},
   "outputs": [
    {
     "name": "stdout",
     "output_type": "stream",
     "text": [
      "+---------+--------+------+------+\n",
      "|firstname|lastname|gender|salary|\n",
      "+---------+--------+------+------+\n",
      "|    James|   Smith|     M|    30|\n",
      "|     Anna|    Rose|     F|    41|\n",
      "|   Robert|Williams|     M|    62|\n",
      "+---------+--------+------+------+\n",
      "\n"
     ]
    }
   ],
   "source": [
    "columns = [\"firstname\",\"lastname\",\"gender\",\"salary\"]\n",
    "df = spark.createDataFrame(data=data, schema = columns)\n",
    "df.show()"
   ]
  },
  {
   "cell_type": "code",
   "execution_count": 97,
   "id": "05b06918-d64f-42c6-97fd-8f411f40b8ac",
   "metadata": {},
   "outputs": [],
   "source": [
    "# Refering columns by index.\n",
    "rdd2=df.rdd.map(lambda x: (x[0]+\", \"+x[1],x[2],x[3]*2))  "
   ]
  },
  {
   "cell_type": "code",
   "execution_count": 98,
   "id": "785737cf-8530-4587-ac05-4ac038bf082b",
   "metadata": {},
   "outputs": [],
   "source": [
    "df2=rdd2.toDF([\"name\",\"gender\",\"new_salary\"]   )"
   ]
  },
  {
   "cell_type": "code",
   "execution_count": 99,
   "id": "3eb26acd-3c9f-4307-a298-8bc9d05c8a66",
   "metadata": {},
   "outputs": [
    {
     "name": "stdout",
     "output_type": "stream",
     "text": [
      "+----------------+------+----------+\n",
      "|            name|gender|new_salary|\n",
      "+----------------+------+----------+\n",
      "|    James, Smith|     M|        60|\n",
      "|      Anna, Rose|     F|        82|\n",
      "|Robert, Williams|     M|       124|\n",
      "+----------------+------+----------+\n",
      "\n"
     ]
    }
   ],
   "source": [
    "df2.show()"
   ]
  },
  {
   "cell_type": "code",
   "execution_count": 100,
   "id": "f9af1c2e-bc7b-4c66-b641-14a44edb701f",
   "metadata": {},
   "outputs": [],
   "source": [
    "rdd2=df.rdd.map(lambda x: \n",
    "    (x[\"firstname\"]+\",\"+x[\"lastname\"],x[\"gender\"],x[\"salary\"]*2)\n",
    "    ) "
   ]
  },
  {
   "cell_type": "code",
   "execution_count": 104,
   "id": "e18ea356-e560-43e3-9c6f-38d67a661b68",
   "metadata": {},
   "outputs": [],
   "source": [
    "df2=rdd2.toDF([\"name\",\"gender\",\"new_salary\"])"
   ]
  },
  {
   "cell_type": "code",
   "execution_count": 105,
   "id": "2fd6fd33-4750-42e6-93eb-4abef8581483",
   "metadata": {},
   "outputs": [
    {
     "name": "stdout",
     "output_type": "stream",
     "text": [
      "+---------------+------+----------+\n",
      "|           name|gender|new_salary|\n",
      "+---------------+------+----------+\n",
      "|    James,Smith|     M|        60|\n",
      "|      Anna,Rose|     F|        82|\n",
      "|Robert,Williams|     M|       124|\n",
      "+---------------+------+----------+\n",
      "\n"
     ]
    }
   ],
   "source": [
    "df2.show()"
   ]
  },
  {
   "cell_type": "code",
   "execution_count": 108,
   "id": "f5abfff1-fce5-4eb2-b421-abb59b700d66",
   "metadata": {},
   "outputs": [],
   "source": [
    "# By Calling function\n",
    "def func1(x):\n",
    "    firstName=x.firstname\n",
    "    lastName=x.lastname\n",
    "    name=firstName+\", XX \"+lastName\n",
    "    gender=x.gender.lower()\n",
    "    salary=x.salary*2\n",
    "    return (name,gender,salary)\n",
    "\n",
    "rdd2=df.rdd.map(lambda x: func1(x))"
   ]
  },
  {
   "cell_type": "code",
   "execution_count": 109,
   "id": "a7ceb4f6-3d99-4cc7-beb9-6ab5a7502b43",
   "metadata": {},
   "outputs": [
    {
     "name": "stdout",
     "output_type": "stream",
     "text": [
      "+-------------------+------+----------+\n",
      "|               name|gender|new_salary|\n",
      "+-------------------+------+----------+\n",
      "|    James, XX Smith|     m|        60|\n",
      "|      Anna, XX Rose|     f|        82|\n",
      "|Robert, XX Williams|     m|       124|\n",
      "+-------------------+------+----------+\n",
      "\n"
     ]
    }
   ],
   "source": [
    "df2=rdd2.toDF([\"name\",\"gender\",\"new_salary\"])\n",
    "df2.show()"
   ]
  },
  {
   "cell_type": "code",
   "execution_count": null,
   "id": "e06ac7b7-8a88-4c8c-9575-4cf85b878459",
   "metadata": {},
   "outputs": [],
   "source": []
  },
  {
   "cell_type": "code",
   "execution_count": null,
   "id": "17bd9ecf-9757-4910-93ce-37c9562db854",
   "metadata": {},
   "outputs": [],
   "source": []
  },
  {
   "cell_type": "code",
   "execution_count": null,
   "id": "dce20c6c-21b9-4bf0-af67-36a3f1b9c212",
   "metadata": {},
   "outputs": [],
   "source": []
  },
  {
   "cell_type": "code",
   "execution_count": null,
   "id": "50d6e959-ae35-4c5d-be2b-ccc8b6f18334",
   "metadata": {},
   "outputs": [],
   "source": []
  },
  {
   "cell_type": "code",
   "execution_count": null,
   "id": "5456cee1-3915-44ed-a3f1-f849e74e604a",
   "metadata": {},
   "outputs": [],
   "source": []
  },
  {
   "cell_type": "code",
   "execution_count": null,
   "id": "a0365b9e-e7e7-424e-b029-b3bcb89ac13f",
   "metadata": {},
   "outputs": [],
   "source": []
  },
  {
   "cell_type": "code",
   "execution_count": null,
   "id": "02100bc4-ebb5-48d1-ba5f-b24779383005",
   "metadata": {},
   "outputs": [],
   "source": []
  },
  {
   "cell_type": "code",
   "execution_count": null,
   "id": "598c0d48-fb9f-4820-b8e1-96ce6d58bb05",
   "metadata": {},
   "outputs": [],
   "source": []
  },
  {
   "cell_type": "code",
   "execution_count": null,
   "id": "af727d3d-2cc4-49f0-8aea-0818afb6bd6c",
   "metadata": {},
   "outputs": [],
   "source": [
    "%%time\n",
    "\n",
    "df_diabetes.groupBy(\"Patient continent\")\\\n",
    "            .avg(\"Age\").select(col(\"Patient continent\"), round(col(\"avg(Age)\"), 2).alias(\"Avg Age\"))\\\n",
    "            .show()\n",
    "\n",
    "psdf.spark.explain()"
   ]
  },
  {
   "cell_type": "code",
   "execution_count": null,
   "id": "b99bc1f1-f230-4348-8db9-3afbc9c2b995",
   "metadata": {},
   "outputs": [],
   "source": []
  },
  {
   "cell_type": "code",
   "execution_count": null,
   "id": "1152508f-1bac-4228-8af1-a21ced1bdc7a",
   "metadata": {},
   "outputs": [],
   "source": []
  },
  {
   "cell_type": "code",
   "execution_count": null,
   "id": "bb459029-a0a5-4146-a14a-72664165d11b",
   "metadata": {},
   "outputs": [],
   "source": []
  },
  {
   "cell_type": "code",
   "execution_count": null,
   "id": "e3753fcd-8155-4e9f-a633-3ffcff175b5f",
   "metadata": {},
   "outputs": [],
   "source": []
  },
  {
   "cell_type": "code",
   "execution_count": null,
   "id": "4dde8b58-e57d-47ad-a4ed-78b587fbb290",
   "metadata": {},
   "outputs": [],
   "source": []
  },
  {
   "cell_type": "code",
   "execution_count": null,
   "id": "d9415d0d-0e1d-4838-bc30-6312e23255c2",
   "metadata": {},
   "outputs": [],
   "source": []
  },
  {
   "cell_type": "code",
   "execution_count": null,
   "id": "63d41d7b-610c-49a2-8441-7c446284042e",
   "metadata": {},
   "outputs": [],
   "source": []
  },
  {
   "cell_type": "code",
   "execution_count": null,
   "id": "530e7b14-216d-4539-a496-fa00d2c853fd",
   "metadata": {},
   "outputs": [],
   "source": []
  },
  {
   "cell_type": "code",
   "execution_count": null,
   "id": "3e984c1f-45a4-469e-b0d9-9a373f838b80",
   "metadata": {},
   "outputs": [],
   "source": []
  },
  {
   "cell_type": "code",
   "execution_count": null,
   "id": "da4f901a-2462-4e21-b313-b25d99ba12fb",
   "metadata": {},
   "outputs": [],
   "source": []
  },
  {
   "cell_type": "code",
   "execution_count": null,
   "id": "fabf3e44-6728-487a-bfca-482df72b9d0c",
   "metadata": {},
   "outputs": [],
   "source": []
  },
  {
   "cell_type": "markdown",
   "id": "e25a5187-3aa5-4cc8-a7d3-2f165f2b25fb",
   "metadata": {},
   "source": [
    "We are going to select the `second` records from the column called Age"
   ]
  },
  {
   "cell_type": "code",
   "execution_count": null,
   "id": "0d670842-1f7e-4eea-a35a-b8ade6d46d21",
   "metadata": {},
   "outputs": [],
   "source": []
  },
  {
   "cell_type": "code",
   "execution_count": null,
   "id": "8461b34f-4ea1-4037-be3f-cdf12dde684e",
   "metadata": {},
   "outputs": [],
   "source": []
  },
  {
   "cell_type": "code",
   "execution_count": null,
   "id": "bceb6116-9f4d-4374-9255-a657e1ca1837",
   "metadata": {},
   "outputs": [],
   "source": [
    " %%time\n",
    "\n",
    "from pyspark.sql.functions import udf\n",
    "\n",
    "# Use udf to define a row-at-a-time udf\n",
    "@udf('double')\n",
    "# Input/output are both a single double value\n",
    "def plus_one(v):\n",
    "      return v + 1\n",
    "\n",
    "df_diabetes_v2 = df_diabetes.withColumn('v2', plus_one(col(\"Age II\")))"
   ]
  },
  {
   "cell_type": "code",
   "execution_count": null,
   "id": "a0ca8d29-3605-403c-9ffb-307ddb023e68",
   "metadata": {},
   "outputs": [],
   "source": [
    "df_diabetes_v2.printSchema()"
   ]
  },
  {
   "cell_type": "code",
   "execution_count": null,
   "id": "a4e2bb36-7041-4897-916f-edbc2b1454fd",
   "metadata": {},
   "outputs": [],
   "source": [
    "df_diabetes_v2.show(5)"
   ]
  },
  {
   "cell_type": "code",
   "execution_count": null,
   "id": "d18cc173-6519-411e-a327-df629812d12e",
   "metadata": {},
   "outputs": [],
   "source": [
    " %%time\n",
    "    \n",
    "from pyspark.sql.functions import pandas_udf, PandasUDFType\n",
    "\n",
    "# Use pandas_udf to define a Pandas UDF\n",
    "@pandas_udf('double', PandasUDFType.SCALAR)\n",
    "# Input/output are both a pandas.Series of doubles\n",
    "\n",
    "def pandas_plus_one(v):\n",
    "    return v + 1\n",
    "\n",
    "df_diabetes_v3 = df_diabetes.withColumn('v2', pandas_plus_one(col(\"Age II\")))"
   ]
  },
  {
   "cell_type": "code",
   "execution_count": null,
   "id": "71538197-c332-409f-b254-84c359598d85",
   "metadata": {},
   "outputs": [],
   "source": []
  },
  {
   "cell_type": "code",
   "execution_count": null,
   "id": "672cce12-2860-4992-b95b-8457603f8f2c",
   "metadata": {},
   "outputs": [],
   "source": []
  },
  {
   "cell_type": "code",
   "execution_count": null,
   "id": "af2677f5-d80c-4739-aa29-03bcda86fc29",
   "metadata": {},
   "outputs": [],
   "source": []
  },
  {
   "cell_type": "code",
   "execution_count": null,
   "id": "717effd8-5305-4e9d-ae15-64fdd83193db",
   "metadata": {},
   "outputs": [],
   "source": [
    "from datetime import date\n",
    " \n",
    "def age(birthdate):\n",
    "    today = date.today()\n",
    "    age = today.year - birthdate.year - ((today.month, today.day) < (birthdate.month, birthdate.day))\n",
    "    return age"
   ]
  },
  {
   "cell_type": "code",
   "execution_count": null,
   "id": "973fda07-ae4d-4086-b1d9-4dc2758b80d4",
   "metadata": {},
   "outputs": [],
   "source": []
  }
 ],
 "metadata": {
  "kernelspec": {
   "display_name": "Python 3 (ipykernel)",
   "language": "python",
   "name": "python3"
  },
  "language_info": {
   "codemirror_mode": {
    "name": "ipython",
    "version": 3
   },
   "file_extension": ".py",
   "mimetype": "text/x-python",
   "name": "python",
   "nbconvert_exporter": "python",
   "pygments_lexer": "ipython3",
   "version": "3.10.6"
  }
 },
 "nbformat": 4,
 "nbformat_minor": 5
}
